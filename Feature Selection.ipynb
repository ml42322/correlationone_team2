{
 "cells": [
  {
   "cell_type": "code",
   "execution_count": 4,
   "id": "7551ceb3",
   "metadata": {},
   "outputs": [],
   "source": [
    "import pandas as pd\n",
    "import numpy as np\n",
    "from statsmodels.stats.outliers_influence import variance_inflation_factor\n"
   ]
  },
  {
   "cell_type": "markdown",
   "id": "179eb205",
   "metadata": {},
   "source": [
    "### Read Dataset"
   ]
  },
  {
   "cell_type": "code",
   "execution_count": 14,
   "id": "00379145",
   "metadata": {},
   "outputs": [],
   "source": [
    "df = pd.read_csv('./Data/NSDUH_HPSA_GRANT_finaldata.csv')"
   ]
  },
  {
   "cell_type": "code",
   "execution_count": 15,
   "id": "f42b709d",
   "metadata": {},
   "outputs": [],
   "source": [
    "df = df.dropna()\n",
    "X = df.drop(['Any_Mental_Illness_Indicator_Past_Year', 'Identifier'], axis=1) # independent variables data\n",
    "y = df['Any_Mental_Illness_Indicator_Past_Year']  # dependent variable data\n"
   ]
  },
  {
   "cell_type": "code",
   "execution_count": 18,
   "id": "d1e73891",
   "metadata": {},
   "outputs": [
    {
     "data": {
      "text/plain": [
       "(197583, 151)"
      ]
     },
     "execution_count": 18,
     "metadata": {},
     "output_type": "execute_result"
    }
   ],
   "source": [
    "X.shape"
   ]
  },
  {
   "cell_type": "code",
   "execution_count": null,
   "id": "594389f0",
   "metadata": {},
   "outputs": [],
   "source": [
    "control_cols = []"
   ]
  },
  {
   "cell_type": "markdown",
   "id": "4d128958",
   "metadata": {},
   "source": [
    "### Detect Multicollinearity using VIF"
   ]
  },
  {
   "cell_type": "code",
   "execution_count": 19,
   "id": "25ca3414",
   "metadata": {},
   "outputs": [
    {
     "name": "stderr",
     "output_type": "stream",
     "text": [
      "/Users/michellli/opt/anaconda3/lib/python3.8/site-packages/statsmodels/stats/outliers_influence.py:193: RuntimeWarning: divide by zero encountered in double_scalars\n",
      "  vif = 1. / (1. - r_squared_i)\n",
      "/Users/michellli/opt/anaconda3/lib/python3.8/site-packages/statsmodels/regression/linear_model.py:1715: RuntimeWarning: invalid value encountered in double_scalars\n",
      "  return 1 - self.ssr/self.centered_tss\n"
     ]
    },
    {
     "name": "stdout",
     "output_type": "stream",
     "text": [
      "                                               feature       VIF\n",
      "71                  Num_Days_Skipped_Work_Past_30_Days  1.042555\n",
      "69                                      Overall_Health  1.213872\n",
      "72                                         EAP_Offered  1.253920\n",
      "41                   Num_Days_Past_Year_Unable_To_Work  1.400727\n",
      "76                                Has_Military_Benefit  1.413365\n",
      "..                                                 ...       ...\n",
      "150                      Mental Health Assistance mean       inf\n",
      "102  HPSA Designation Population Type Description_L...       NaN\n",
      "105  HPSA Designation Population Type Description_L...       NaN\n",
      "108  HPSA Designation Population Type Description_M...       NaN\n",
      "109  HPSA Designation Population Type Description_N...       NaN\n",
      "\n",
      "[151 rows x 2 columns]\n"
     ]
    }
   ],
   "source": [
    "# VIF dataframe\n",
    "vif_data = pd.DataFrame()\n",
    "vif_data[\"feature\"] = X.columns\n",
    "  \n",
    "# calculating VIF for each feature\n",
    "vif_data[\"VIF\"] = [variance_inflation_factor(X.values, i)\n",
    "                          for i in range(len(X.columns))]\n",
    "\n",
    "print(vif_data.sort_values('VIF'))"
   ]
  },
  {
   "cell_type": "code",
   "execution_count": 26,
   "id": "633d339d",
   "metadata": {},
   "outputs": [
    {
     "data": {
      "text/html": [
       "<div>\n",
       "<style scoped>\n",
       "    .dataframe tbody tr th:only-of-type {\n",
       "        vertical-align: middle;\n",
       "    }\n",
       "\n",
       "    .dataframe tbody tr th {\n",
       "        vertical-align: top;\n",
       "    }\n",
       "\n",
       "    .dataframe thead th {\n",
       "        text-align: right;\n",
       "    }\n",
       "</style>\n",
       "<table border=\"1\" class=\"dataframe\">\n",
       "  <thead>\n",
       "    <tr style=\"text-align: right;\">\n",
       "      <th></th>\n",
       "      <th>feature</th>\n",
       "      <th>VIF</th>\n",
       "    </tr>\n",
       "  </thead>\n",
       "  <tbody>\n",
       "    <tr>\n",
       "      <th>71</th>\n",
       "      <td>Num_Days_Skipped_Work_Past_30_Days</td>\n",
       "      <td>1.042555</td>\n",
       "    </tr>\n",
       "    <tr>\n",
       "      <th>69</th>\n",
       "      <td>Overall_Health</td>\n",
       "      <td>1.213872</td>\n",
       "    </tr>\n",
       "    <tr>\n",
       "      <th>72</th>\n",
       "      <td>EAP_Offered</td>\n",
       "      <td>1.253920</td>\n",
       "    </tr>\n",
       "    <tr>\n",
       "      <th>41</th>\n",
       "      <td>Num_Days_Past_Year_Unable_To_Work</td>\n",
       "      <td>1.400727</td>\n",
       "    </tr>\n",
       "    <tr>\n",
       "      <th>76</th>\n",
       "      <td>Has_Military_Benefit</td>\n",
       "      <td>1.413365</td>\n",
       "    </tr>\n",
       "    <tr>\n",
       "      <th>68</th>\n",
       "      <td>Education_Category</td>\n",
       "      <td>1.486240</td>\n",
       "    </tr>\n",
       "    <tr>\n",
       "      <th>40</th>\n",
       "      <td>Num_Weeks_Mental_Health_Difficulties</td>\n",
       "      <td>1.700752</td>\n",
       "    </tr>\n",
       "    <tr>\n",
       "      <th>84</th>\n",
       "      <td>Family_Receives_Public_Assistance</td>\n",
       "      <td>1.736176</td>\n",
       "    </tr>\n",
       "    <tr>\n",
       "      <th>81</th>\n",
       "      <td>Family_Receives_Social_Security</td>\n",
       "      <td>1.770304</td>\n",
       "    </tr>\n",
       "    <tr>\n",
       "      <th>1</th>\n",
       "      <td>Inpatient_Past_Year</td>\n",
       "      <td>1.798791</td>\n",
       "    </tr>\n",
       "    <tr>\n",
       "      <th>82</th>\n",
       "      <td>Family_Receives_SSI</td>\n",
       "      <td>1.843901</td>\n",
       "    </tr>\n",
       "    <tr>\n",
       "      <th>9</th>\n",
       "      <td>Received_Treatment_At_NonClinic_Doctor</td>\n",
       "      <td>1.905495</td>\n",
       "    </tr>\n",
       "    <tr>\n",
       "      <th>60</th>\n",
       "      <td>Gender</td>\n",
       "      <td>1.928473</td>\n",
       "    </tr>\n",
       "    <tr>\n",
       "      <th>47</th>\n",
       "      <td>Suicide_Attempt_Past_Year</td>\n",
       "      <td>2.270172</td>\n",
       "    </tr>\n",
       "    <tr>\n",
       "      <th>7</th>\n",
       "      <td>Received_Treatment_At_Clinic_Or_Center</td>\n",
       "      <td>2.282555</td>\n",
       "    </tr>\n",
       "    <tr>\n",
       "      <th>10</th>\n",
       "      <td>Received_Treatment_At_Medical_Clinic</td>\n",
       "      <td>2.287106</td>\n",
       "    </tr>\n",
       "    <tr>\n",
       "      <th>45</th>\n",
       "      <td>Serious_Suicidal_Thoughts_Past_Year</td>\n",
       "      <td>2.532194</td>\n",
       "    </tr>\n",
       "    <tr>\n",
       "      <th>46</th>\n",
       "      <td>Suicide_Plan_Past_Year</td>\n",
       "      <td>2.550250</td>\n",
       "    </tr>\n",
       "    <tr>\n",
       "      <th>87</th>\n",
       "      <td>Total_Income_Respondent</td>\n",
       "      <td>2.618664</td>\n",
       "    </tr>\n",
       "    <tr>\n",
       "      <th>85</th>\n",
       "      <td>Family_Receives_Welfare_JobPlacement_Childcare</td>\n",
       "      <td>2.675009</td>\n",
       "    </tr>\n",
       "    <tr>\n",
       "      <th>58</th>\n",
       "      <td>Adult_Past_Year_Major_Depressive_Episode</td>\n",
       "      <td>2.849614</td>\n",
       "    </tr>\n",
       "    <tr>\n",
       "      <th>78</th>\n",
       "      <td>Has_Other_Health_Insurance</td>\n",
       "      <td>2.981492</td>\n",
       "    </tr>\n",
       "    <tr>\n",
       "      <th>44</th>\n",
       "      <td>Serious_Psychological_Distress_Indicator_Past_...</td>\n",
       "      <td>3.397024</td>\n",
       "    </tr>\n",
       "    <tr>\n",
       "      <th>42</th>\n",
       "      <td>Psychological_Distress_Level_Worst_Month</td>\n",
       "      <td>3.478442</td>\n",
       "    </tr>\n",
       "    <tr>\n",
       "      <th>93</th>\n",
       "      <td>County_Metro_NonMetro_Status</td>\n",
       "      <td>3.543385</td>\n",
       "    </tr>\n",
       "    <tr>\n",
       "      <th>86</th>\n",
       "      <td>Months_On_Welfare</td>\n",
       "      <td>3.601447</td>\n",
       "    </tr>\n",
       "    <tr>\n",
       "      <th>13</th>\n",
       "      <td>Received_Treatment_Other</td>\n",
       "      <td>3.734390</td>\n",
       "    </tr>\n",
       "    <tr>\n",
       "      <th>8</th>\n",
       "      <td>Received_Treatment_At_Private_Therapist</td>\n",
       "      <td>3.787096</td>\n",
       "    </tr>\n",
       "    <tr>\n",
       "      <th>75</th>\n",
       "      <td>Has_Medicaid_Or_CHIP</td>\n",
       "      <td>3.846636</td>\n",
       "    </tr>\n",
       "    <tr>\n",
       "      <th>74</th>\n",
       "      <td>Has_Medicare</td>\n",
       "      <td>3.944299</td>\n",
       "    </tr>\n",
       "    <tr>\n",
       "      <th>11</th>\n",
       "      <td>Received_Treatment_At_Day_Hospital</td>\n",
       "      <td>4.117871</td>\n",
       "    </tr>\n",
       "    <tr>\n",
       "      <th>91</th>\n",
       "      <td>Poverty_Level</td>\n",
       "      <td>4.264935</td>\n",
       "    </tr>\n",
       "    <tr>\n",
       "      <th>12</th>\n",
       "      <td>Received_Treatment_At_School</td>\n",
       "      <td>4.305649</td>\n",
       "    </tr>\n",
       "  </tbody>\n",
       "</table>\n",
       "</div>"
      ],
      "text/plain": [
       "                                              feature       VIF\n",
       "71                 Num_Days_Skipped_Work_Past_30_Days  1.042555\n",
       "69                                     Overall_Health  1.213872\n",
       "72                                        EAP_Offered  1.253920\n",
       "41                  Num_Days_Past_Year_Unable_To_Work  1.400727\n",
       "76                               Has_Military_Benefit  1.413365\n",
       "68                                 Education_Category  1.486240\n",
       "40               Num_Weeks_Mental_Health_Difficulties  1.700752\n",
       "84                  Family_Receives_Public_Assistance  1.736176\n",
       "81                    Family_Receives_Social_Security  1.770304\n",
       "1                                 Inpatient_Past_Year  1.798791\n",
       "82                                Family_Receives_SSI  1.843901\n",
       "9              Received_Treatment_At_NonClinic_Doctor  1.905495\n",
       "60                                             Gender  1.928473\n",
       "47                          Suicide_Attempt_Past_Year  2.270172\n",
       "7              Received_Treatment_At_Clinic_Or_Center  2.282555\n",
       "10               Received_Treatment_At_Medical_Clinic  2.287106\n",
       "45                Serious_Suicidal_Thoughts_Past_Year  2.532194\n",
       "46                             Suicide_Plan_Past_Year  2.550250\n",
       "87                            Total_Income_Respondent  2.618664\n",
       "85     Family_Receives_Welfare_JobPlacement_Childcare  2.675009\n",
       "58           Adult_Past_Year_Major_Depressive_Episode  2.849614\n",
       "78                         Has_Other_Health_Insurance  2.981492\n",
       "44  Serious_Psychological_Distress_Indicator_Past_...  3.397024\n",
       "42           Psychological_Distress_Level_Worst_Month  3.478442\n",
       "93                       County_Metro_NonMetro_Status  3.543385\n",
       "86                                  Months_On_Welfare  3.601447\n",
       "13                           Received_Treatment_Other  3.734390\n",
       "8             Received_Treatment_At_Private_Therapist  3.787096\n",
       "75                               Has_Medicaid_Or_CHIP  3.846636\n",
       "74                                       Has_Medicare  3.944299\n",
       "11                 Received_Treatment_At_Day_Hospital  4.117871\n",
       "91                                      Poverty_Level  4.264935\n",
       "12                       Received_Treatment_At_School  4.305649"
      ]
     },
     "execution_count": 26,
     "metadata": {},
     "output_type": "execute_result"
    }
   ],
   "source": [
    "vif_data[vif_data['VIF']<=5].sort_values('VIF')"
   ]
  },
  {
   "cell_type": "code",
   "execution_count": 27,
   "id": "f2ada3d6",
   "metadata": {},
   "outputs": [],
   "source": [
    "# keep variables with VIF < 5\n",
    "cols_to_keep = vif_data[vif_data['VIF']<=5]['feature']"
   ]
  },
  {
   "cell_type": "code",
   "execution_count": 28,
   "id": "c1f4aa69",
   "metadata": {},
   "outputs": [],
   "source": [
    "X_2 = X[cols_to_keep]"
   ]
  },
  {
   "cell_type": "markdown",
   "id": "fc16224e",
   "metadata": {},
   "source": [
    "### Key Driver Analysis "
   ]
  },
  {
   "cell_type": "code",
   "execution_count": 25,
   "id": "59e1a554",
   "metadata": {},
   "outputs": [
    {
     "data": {
      "text/plain": [
       "0    153346\n",
       "1     44237\n",
       "Name: Any_Mental_Illness_Indicator_Past_Year, dtype: int64"
      ]
     },
     "execution_count": 25,
     "metadata": {},
     "output_type": "execute_result"
    }
   ],
   "source": [
    "y.value_counts()"
   ]
  },
  {
   "cell_type": "code",
   "execution_count": null,
   "id": "c58068b7",
   "metadata": {},
   "outputs": [],
   "source": []
  }
 ],
 "metadata": {
  "kernelspec": {
   "display_name": "Python 3",
   "language": "python",
   "name": "python3"
  },
  "language_info": {
   "codemirror_mode": {
    "name": "ipython",
    "version": 3
   },
   "file_extension": ".py",
   "mimetype": "text/x-python",
   "name": "python",
   "nbconvert_exporter": "python",
   "pygments_lexer": "ipython3",
   "version": "3.8.8"
  }
 },
 "nbformat": 4,
 "nbformat_minor": 5
}
