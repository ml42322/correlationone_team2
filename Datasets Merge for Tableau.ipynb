{
 "cells": [
  {
   "cell_type": "code",
   "execution_count": 16,
   "id": "31d85b7c",
   "metadata": {},
   "outputs": [
    {
     "data": {
      "text/html": [
       "<style>.container {width:95% !important;}</style>"
      ],
      "text/plain": [
       "<IPython.core.display.HTML object>"
      ]
     },
     "metadata": {},
     "output_type": "display_data"
    }
   ],
   "source": [
    "import pandas as pd\n",
    "import numpy as np\n",
    "\n",
    "# Adjust notebook settings to widen the notebook\n",
    "from IPython.core.display import display, HTML\n",
    "display(HTML(\"<style>.container {width:95% !important;}</style>\"))\n",
    "pd.set_option(\"display.max_columns\", None)\n",
    "pd.set_option(\"display.max_rows\", None)"
   ]
  },
  {
   "cell_type": "code",
   "execution_count": 17,
   "id": "31f08f50",
   "metadata": {},
   "outputs": [],
   "source": [
    "hpsa = pd.read_csv(\"./Data/HPSA_Cleaned.csv\")\n",
    "nsduh = pd.read_csv(\"./Data/nsduh_data_cleaned.csv\")\n",
    "grants = pd.read_csv(\"./Data/grants_per_county_cbsa.csv\")"
   ]
  },
  {
   "cell_type": "code",
   "execution_count": 18,
   "id": "e028f6ba",
   "metadata": {},
   "outputs": [
    {
     "name": "stdout",
     "output_type": "stream",
     "text": [
      "HPSA shape:(27829, 52)\n",
      "Grants shape:(2329, 11)\n",
      "NSDUH shape:(214505, 98)\n"
     ]
    }
   ],
   "source": [
    "print('HPSA shape:{}'.format(hpsa.shape))\n",
    "print('Grants shape:{}'.format(grants.shape))\n",
    "print('NSDUH shape:{}'.format(nsduh.shape))"
   ]
  },
  {
   "cell_type": "code",
   "execution_count": 19,
   "id": "e3bf1a17",
   "metadata": {},
   "outputs": [
    {
     "data": {
      "text/html": [
       "<div>\n",
       "<style scoped>\n",
       "    .dataframe tbody tr th:only-of-type {\n",
       "        vertical-align: middle;\n",
       "    }\n",
       "\n",
       "    .dataframe tbody tr th {\n",
       "        vertical-align: top;\n",
       "    }\n",
       "\n",
       "    .dataframe thead th {\n",
       "        text-align: right;\n",
       "    }\n",
       "</style>\n",
       "<table border=\"1\" class=\"dataframe\">\n",
       "  <thead>\n",
       "    <tr style=\"text-align: right;\">\n",
       "      <th></th>\n",
       "      <th>Complete County Name</th>\n",
       "      <th>State Name</th>\n",
       "      <th>Award Year</th>\n",
       "      <th>Total Active Grant Financial Assistance</th>\n",
       "      <th>Mental Health Assistance</th>\n",
       "      <th>countycountyequivalent</th>\n",
       "      <th>centraloutlyingcounty</th>\n",
       "      <th>statename</th>\n",
       "      <th>cbsacode</th>\n",
       "      <th>metropolitanmicropolitanstatis</th>\n",
       "      <th>PDEN10</th>\n",
       "    </tr>\n",
       "  </thead>\n",
       "  <tbody>\n",
       "    <tr>\n",
       "      <th>0</th>\n",
       "      <td>Accomack County</td>\n",
       "      <td>Virginia</td>\n",
       "      <td>2017</td>\n",
       "      <td>52817.0</td>\n",
       "      <td>0.0</td>\n",
       "      <td>NaN</td>\n",
       "      <td>NaN</td>\n",
       "      <td>NaN</td>\n",
       "      <td>NaN</td>\n",
       "      <td>NaN</td>\n",
       "      <td>3</td>\n",
       "    </tr>\n",
       "    <tr>\n",
       "      <th>1</th>\n",
       "      <td>Accomack County</td>\n",
       "      <td>Virginia</td>\n",
       "      <td>2018</td>\n",
       "      <td>4973949.0</td>\n",
       "      <td>0.0</td>\n",
       "      <td>NaN</td>\n",
       "      <td>NaN</td>\n",
       "      <td>NaN</td>\n",
       "      <td>NaN</td>\n",
       "      <td>NaN</td>\n",
       "      <td>3</td>\n",
       "    </tr>\n",
       "  </tbody>\n",
       "</table>\n",
       "</div>"
      ],
      "text/plain": [
       "  Complete County Name State Name  Award Year  \\\n",
       "0      Accomack County   Virginia        2017   \n",
       "1      Accomack County   Virginia        2018   \n",
       "\n",
       "   Total Active Grant Financial Assistance  Mental Health Assistance  \\\n",
       "0                                  52817.0                       0.0   \n",
       "1                                4973949.0                       0.0   \n",
       "\n",
       "  countycountyequivalent centraloutlyingcounty statename  cbsacode  \\\n",
       "0                    NaN                   NaN       NaN       NaN   \n",
       "1                    NaN                   NaN       NaN       NaN   \n",
       "\n",
       "  metropolitanmicropolitanstatis  PDEN10  \n",
       "0                            NaN       3  \n",
       "1                            NaN       3  "
      ]
     },
     "execution_count": 19,
     "metadata": {},
     "output_type": "execute_result"
    }
   ],
   "source": [
    "grants.head(2)"
   ]
  },
  {
   "cell_type": "code",
   "execution_count": 20,
   "id": "574e3ae5",
   "metadata": {},
   "outputs": [],
   "source": [
    "grants = grants.rename(columns={'Award Year':'Year'})"
   ]
  },
  {
   "cell_type": "markdown",
   "id": "fe3373de",
   "metadata": {},
   "source": [
    "### HPSA"
   ]
  },
  {
   "cell_type": "code",
   "execution_count": 21,
   "id": "38b637bc",
   "metadata": {},
   "outputs": [],
   "source": [
    "# drop unrecognized hpsas\n",
    "hpsa = hpsa[~hpsa['metropolitanmicropolitanstatis'].isnull()]"
   ]
  },
  {
   "cell_type": "code",
   "execution_count": 22,
   "id": "72886b67",
   "metadata": {},
   "outputs": [],
   "source": [
    "hpsa['HPSA Withdrawn Year'] = pd.to_datetime(hpsa['Withdrawn Date']).dt.year"
   ]
  },
  {
   "cell_type": "code",
   "execution_count": 23,
   "id": "f2816e52",
   "metadata": {},
   "outputs": [],
   "source": [
    "hpsa['HPSA Designation Year'] = pd.to_datetime(hpsa['HPSA Designation Date']).dt.year"
   ]
  },
  {
   "cell_type": "code",
   "execution_count": 26,
   "id": "a30fd8ea",
   "metadata": {},
   "outputs": [],
   "source": [
    "# remove repetitive columns & not useful columns for Tableau visualizations\n",
    "hpsa.drop(['Common State County FIPS Code', \n",
    "         'Common State FIPS Code',\n",
    "         'Common State Name', \n",
    "         'County Equivalent Name', \n",
    "         'Common State Abbreviation',\n",
    "         'HPSA Metropolitan Indicator Code', \n",
    "         'Primary State FIPS Code', \n",
    "         'Primary State Name',\n",
    "         'State Abbreviation', \n",
    "         'State FIPS Code', \n",
    "         'State Name', \n",
    "         'Common County Name', \n",
    "         'Metropolitan Indicator',\n",
    "         'HPSA Status Code',  \n",
    "         'Rural Status Code',  \n",
    "         'HPSA Component State Abbreviation',\n",
    "         'HPSA Population Type Code', \n",
    "         'County Equivalent Name New',\n",
    "         'centraloutlyingcounty'], axis=1, inplace=True)"
   ]
  },
  {
   "cell_type": "markdown",
   "id": "84bbc8a4",
   "metadata": {},
   "source": [
    "## NSDUH"
   ]
  },
  {
   "cell_type": "code",
   "execution_count": 28,
   "id": "eceff1dc",
   "metadata": {},
   "outputs": [],
   "source": [
    "nsduh = nsduh.rename(columns={'Population_Density_2010':'PDEN10'})"
   ]
  },
  {
   "cell_type": "markdown",
   "id": "0bb815c5",
   "metadata": {},
   "source": [
    "## Merge all datasets (NSDUH, HPSA, Grants)"
   ]
  },
  {
   "cell_type": "code",
   "execution_count": 29,
   "id": "3a2580ee",
   "metadata": {},
   "outputs": [
    {
     "data": {
      "text/html": [
       "<div>\n",
       "<style scoped>\n",
       "    .dataframe tbody tr th:only-of-type {\n",
       "        vertical-align: middle;\n",
       "    }\n",
       "\n",
       "    .dataframe tbody tr th {\n",
       "        vertical-align: top;\n",
       "    }\n",
       "\n",
       "    .dataframe thead th {\n",
       "        text-align: right;\n",
       "    }\n",
       "</style>\n",
       "<table border=\"1\" class=\"dataframe\">\n",
       "  <thead>\n",
       "    <tr style=\"text-align: right;\">\n",
       "      <th></th>\n",
       "      <th>Withdrawn Date</th>\n",
       "      <th>HPSA Name</th>\n",
       "      <th>HPSA Component Name</th>\n",
       "      <th>HPSA Component Type Code</th>\n",
       "      <th>HPSA Component Type Description</th>\n",
       "      <th>HPSA Designation Population Type Description</th>\n",
       "      <th>HPSA Type Code</th>\n",
       "      <th>State and County Federal Information Processing Standard Code</th>\n",
       "      <th>U.S. - Mexico Border 100 Kilometer Indicator</th>\n",
       "      <th>U.S. - Mexico Border County Indicator</th>\n",
       "      <th>Common Region Name</th>\n",
       "      <th>County or County Equivalent Federal Information Processing Standard Code</th>\n",
       "      <th>HPSA Designation Last Update Date</th>\n",
       "      <th>HPSA Designation Date</th>\n",
       "      <th>HPSA Status</th>\n",
       "      <th>HPSA Geography Identification Number</th>\n",
       "      <th>HPSA Score</th>\n",
       "      <th>Primary State Abbreviation</th>\n",
       "      <th>Primary HHS Region Name</th>\n",
       "      <th>Designation Type</th>\n",
       "      <th>HPSA ID</th>\n",
       "      <th>HPSA Designation Population</th>\n",
       "      <th>Rural Status</th>\n",
       "      <th>HPSA Degree of Shortage</th>\n",
       "      <th>HPSA FTE</th>\n",
       "      <th>HPSA Population Type</th>\n",
       "      <th>HPSA Shortage</th>\n",
       "      <th>DaysBeforeWithdrawn</th>\n",
       "      <th>countycountyequivalent</th>\n",
       "      <th>statename</th>\n",
       "      <th>cbsacode</th>\n",
       "      <th>metropolitanmicropolitanstatis</th>\n",
       "      <th>PDEN10</th>\n",
       "      <th>HPSA Withdrawn Year</th>\n",
       "      <th>HPSA Designation Year</th>\n",
       "    </tr>\n",
       "  </thead>\n",
       "  <tbody>\n",
       "    <tr>\n",
       "      <th>0</th>\n",
       "      <td>NaN</td>\n",
       "      <td>Stanley Correctional Institution</td>\n",
       "      <td>Stanley Correctional Institution</td>\n",
       "      <td>UNK</td>\n",
       "      <td>Unknown</td>\n",
       "      <td>Correctional Facility</td>\n",
       "      <td>PRSN</td>\n",
       "      <td>55017</td>\n",
       "      <td>N</td>\n",
       "      <td>N</td>\n",
       "      <td>Region 5</td>\n",
       "      <td>017</td>\n",
       "      <td>08/02/2018</td>\n",
       "      <td>07/21/2003</td>\n",
       "      <td>Designated</td>\n",
       "      <td>POINT</td>\n",
       "      <td>15</td>\n",
       "      <td>WI</td>\n",
       "      <td>Region 5</td>\n",
       "      <td>Correctional Facility</td>\n",
       "      <td>7551065910</td>\n",
       "      <td>2885.0</td>\n",
       "      <td>Non-Rural</td>\n",
       "      <td>6</td>\n",
       "      <td>0.6</td>\n",
       "      <td>NaN</td>\n",
       "      <td>0.84</td>\n",
       "      <td>NaN</td>\n",
       "      <td>Chippewa County</td>\n",
       "      <td>Wisconsin</td>\n",
       "      <td>20740.0</td>\n",
       "      <td>Metropolitan Statistical Area</td>\n",
       "      <td>1</td>\n",
       "      <td>NaN</td>\n",
       "      <td>2003</td>\n",
       "    </tr>\n",
       "    <tr>\n",
       "      <th>1</th>\n",
       "      <td>07/02/2018</td>\n",
       "      <td>Rock County</td>\n",
       "      <td>Rock</td>\n",
       "      <td>SCTY</td>\n",
       "      <td>Single County</td>\n",
       "      <td>Geographic Population</td>\n",
       "      <td>Hpsa Geo HN</td>\n",
       "      <td>55105</td>\n",
       "      <td>N</td>\n",
       "      <td>N</td>\n",
       "      <td>Region 5</td>\n",
       "      <td>105</td>\n",
       "      <td>07/02/2018</td>\n",
       "      <td>04/09/2014</td>\n",
       "      <td>Withdrawn</td>\n",
       "      <td>55105</td>\n",
       "      <td>13</td>\n",
       "      <td>WI</td>\n",
       "      <td>Region 5</td>\n",
       "      <td>High Needs Geographic HPSA</td>\n",
       "      <td>755105</td>\n",
       "      <td>156639.0</td>\n",
       "      <td>Partially Rural</td>\n",
       "      <td>Not applicable</td>\n",
       "      <td>8.5</td>\n",
       "      <td>Geographic Population</td>\n",
       "      <td>0.74</td>\n",
       "      <td>1545 days</td>\n",
       "      <td>Rock County</td>\n",
       "      <td>Wisconsin</td>\n",
       "      <td>27500.0</td>\n",
       "      <td>Metropolitan Statistical Area</td>\n",
       "      <td>1</td>\n",
       "      <td>2018.0</td>\n",
       "      <td>2014</td>\n",
       "    </tr>\n",
       "  </tbody>\n",
       "</table>\n",
       "</div>"
      ],
      "text/plain": [
       "  Withdrawn Date                         HPSA Name  \\\n",
       "0            NaN  Stanley Correctional Institution   \n",
       "1     07/02/2018                       Rock County   \n",
       "\n",
       "                HPSA Component Name HPSA Component Type Code  \\\n",
       "0  Stanley Correctional Institution                      UNK   \n",
       "1                              Rock                     SCTY   \n",
       "\n",
       "  HPSA Component Type Description  \\\n",
       "0                         Unknown   \n",
       "1                   Single County   \n",
       "\n",
       "  HPSA Designation Population Type Description HPSA Type Code  \\\n",
       "0                        Correctional Facility           PRSN   \n",
       "1                        Geographic Population    Hpsa Geo HN   \n",
       "\n",
       "  State and County Federal Information Processing Standard Code  \\\n",
       "0                                              55017              \n",
       "1                                              55105              \n",
       "\n",
       "  U.S. - Mexico Border 100 Kilometer Indicator  \\\n",
       "0                                            N   \n",
       "1                                            N   \n",
       "\n",
       "  U.S. - Mexico Border County Indicator Common Region Name  \\\n",
       "0                                     N           Region 5   \n",
       "1                                     N           Region 5   \n",
       "\n",
       "  County or County Equivalent Federal Information Processing Standard Code  \\\n",
       "0                                                017                         \n",
       "1                                                105                         \n",
       "\n",
       "  HPSA Designation Last Update Date HPSA Designation Date HPSA Status  \\\n",
       "0                        08/02/2018            07/21/2003  Designated   \n",
       "1                        07/02/2018            04/09/2014   Withdrawn   \n",
       "\n",
       "  HPSA Geography Identification Number  HPSA Score Primary State Abbreviation  \\\n",
       "0                                POINT          15                         WI   \n",
       "1                                55105          13                         WI   \n",
       "\n",
       "  Primary HHS Region Name            Designation Type     HPSA ID  \\\n",
       "0                Region 5       Correctional Facility  7551065910   \n",
       "1                Region 5  High Needs Geographic HPSA      755105   \n",
       "\n",
       "   HPSA Designation Population     Rural Status HPSA Degree of Shortage  \\\n",
       "0                       2885.0        Non-Rural                       6   \n",
       "1                     156639.0  Partially Rural          Not applicable   \n",
       "\n",
       "   HPSA FTE   HPSA Population Type  HPSA Shortage DaysBeforeWithdrawn  \\\n",
       "0       0.6                    NaN           0.84                 NaN   \n",
       "1       8.5  Geographic Population           0.74           1545 days   \n",
       "\n",
       "  countycountyequivalent  statename  cbsacode metropolitanmicropolitanstatis  \\\n",
       "0        Chippewa County  Wisconsin   20740.0  Metropolitan Statistical Area   \n",
       "1            Rock County  Wisconsin   27500.0  Metropolitan Statistical Area   \n",
       "\n",
       "   PDEN10  HPSA Withdrawn Year  HPSA Designation Year  \n",
       "0       1                  NaN                   2003  \n",
       "1       1               2018.0                   2014  "
      ]
     },
     "execution_count": 29,
     "metadata": {},
     "output_type": "execute_result"
    }
   ],
   "source": [
    "hpsa.head(2)"
   ]
  },
  {
   "cell_type": "code",
   "execution_count": 30,
   "id": "b1913844",
   "metadata": {},
   "outputs": [
    {
     "data": {
      "text/html": [
       "<div>\n",
       "<style scoped>\n",
       "    .dataframe tbody tr th:only-of-type {\n",
       "        vertical-align: middle;\n",
       "    }\n",
       "\n",
       "    .dataframe tbody tr th {\n",
       "        vertical-align: top;\n",
       "    }\n",
       "\n",
       "    .dataframe thead th {\n",
       "        text-align: right;\n",
       "    }\n",
       "</style>\n",
       "<table border=\"1\" class=\"dataframe\">\n",
       "  <thead>\n",
       "    <tr style=\"text-align: right;\">\n",
       "      <th></th>\n",
       "      <th>Complete County Name</th>\n",
       "      <th>State Name</th>\n",
       "      <th>Year</th>\n",
       "      <th>Total Active Grant Financial Assistance</th>\n",
       "      <th>Mental Health Assistance</th>\n",
       "      <th>countycountyequivalent</th>\n",
       "      <th>centraloutlyingcounty</th>\n",
       "      <th>statename</th>\n",
       "      <th>cbsacode</th>\n",
       "      <th>metropolitanmicropolitanstatis</th>\n",
       "      <th>PDEN10</th>\n",
       "    </tr>\n",
       "  </thead>\n",
       "  <tbody>\n",
       "    <tr>\n",
       "      <th>0</th>\n",
       "      <td>Accomack County</td>\n",
       "      <td>Virginia</td>\n",
       "      <td>2017</td>\n",
       "      <td>52817.0</td>\n",
       "      <td>0.0</td>\n",
       "      <td>NaN</td>\n",
       "      <td>NaN</td>\n",
       "      <td>NaN</td>\n",
       "      <td>NaN</td>\n",
       "      <td>NaN</td>\n",
       "      <td>3</td>\n",
       "    </tr>\n",
       "    <tr>\n",
       "      <th>1</th>\n",
       "      <td>Accomack County</td>\n",
       "      <td>Virginia</td>\n",
       "      <td>2018</td>\n",
       "      <td>4973949.0</td>\n",
       "      <td>0.0</td>\n",
       "      <td>NaN</td>\n",
       "      <td>NaN</td>\n",
       "      <td>NaN</td>\n",
       "      <td>NaN</td>\n",
       "      <td>NaN</td>\n",
       "      <td>3</td>\n",
       "    </tr>\n",
       "  </tbody>\n",
       "</table>\n",
       "</div>"
      ],
      "text/plain": [
       "  Complete County Name State Name  Year  \\\n",
       "0      Accomack County   Virginia  2017   \n",
       "1      Accomack County   Virginia  2018   \n",
       "\n",
       "   Total Active Grant Financial Assistance  Mental Health Assistance  \\\n",
       "0                                  52817.0                       0.0   \n",
       "1                                4973949.0                       0.0   \n",
       "\n",
       "  countycountyequivalent centraloutlyingcounty statename  cbsacode  \\\n",
       "0                    NaN                   NaN       NaN       NaN   \n",
       "1                    NaN                   NaN       NaN       NaN   \n",
       "\n",
       "  metropolitanmicropolitanstatis  PDEN10  \n",
       "0                            NaN       3  \n",
       "1                            NaN       3  "
      ]
     },
     "execution_count": 30,
     "metadata": {},
     "output_type": "execute_result"
    }
   ],
   "source": [
    "grants.head(2)"
   ]
  },
  {
   "cell_type": "code",
   "execution_count": 11,
   "id": "d82c61a5",
   "metadata": {},
   "outputs": [],
   "source": [
    "# merge HPSA and Grant by CBSA identifiers\n",
    "hpsa_grants = hpsa.merge(grants, how='left', left_on=['countycountyequivalent', 'statename', 'cbsacode', 'statename', 'PDEN10' ], right_on=['countycountyequivalent', 'statename', 'cbsacode', 'statename', 'PDEN10'])"
   ]
  },
  {
   "cell_type": "code",
   "execution_count": 12,
   "id": "26ef460e",
   "metadata": {
    "scrolled": true
   },
   "outputs": [
    {
     "data": {
      "text/plain": [
       "Index(['Withdrawn Date', 'HPSA Name', 'Common State County FIPS Code',\n",
       "       'Common State FIPS Code', 'Common State Name', 'County Equivalent Name',\n",
       "       'HPSA Component Name', 'HPSA Component Type Code',\n",
       "       'HPSA Component Type Description',\n",
       "       'HPSA Designation Population Type Description',\n",
       "       'Common State Abbreviation', 'HPSA Metropolitan Indicator Code',\n",
       "       'HPSA Type Code', 'Primary State FIPS Code', 'Primary State Name',\n",
       "       'State Abbreviation',\n",
       "       'State and County Federal Information Processing Standard Code',\n",
       "       'State FIPS Code', 'State Name',\n",
       "       'U.S. - Mexico Border 100 Kilometer Indicator',\n",
       "       'U.S. - Mexico Border County Indicator', 'HPSA Status Code',\n",
       "       'Common Region Name',\n",
       "       'County or County Equivalent Federal Information Processing Standard Code',\n",
       "       'Common County Name', 'Metropolitan Indicator',\n",
       "       'HPSA Designation Last Update Date', 'HPSA Designation Date',\n",
       "       'HPSA Status', 'HPSA Geography Identification Number', 'HPSA Score',\n",
       "       'Primary State Abbreviation', 'Primary HHS Region Name',\n",
       "       'Designation Type', 'HPSA ID', 'HPSA Designation Population',\n",
       "       'Rural Status', 'Rural Status Code', 'HPSA Degree of Shortage',\n",
       "       'HPSA FTE', 'HPSA Component State Abbreviation', 'HPSA Population Type',\n",
       "       'HPSA Population Type Code', 'HPSA Shortage', 'DaysBeforeWithdrawn',\n",
       "       'County Equivalent Name New', 'countycountyequivalent',\n",
       "       'centraloutlyingcounty', 'statename', 'cbsacode',\n",
       "       'metropolitanmicropolitanstatis_x', 'PDEN10_x', 'HPSA Withdrawn Year',\n",
       "       'HPSA Designation Year', 'Complete County Name', 'Year',\n",
       "       'Total Active Grant Financial Assistance', 'Mental Health Assistance',\n",
       "       'metropolitanmicropolitanstatis_y', 'PDEN10_y'],\n",
       "      dtype='object')"
      ]
     },
     "execution_count": 12,
     "metadata": {},
     "output_type": "execute_result"
    }
   ],
   "source": [
    "hpsa_grants.columns"
   ]
  },
  {
   "cell_type": "code",
   "execution_count": 15,
   "id": "2e5887b5",
   "metadata": {},
   "outputs": [
    {
     "ename": "KeyError",
     "evalue": "\"['Common State County FIPS Code' 'Common State FIPS Code'\\n 'Common State Name' 'County Equivalent Name' 'Common State Abbreviation'\\n 'HPSA Metropolitan Indicator Code' 'Primary State FIPS Code'\\n 'Primary State Name' 'State Abbreviation' 'State FIPS Code' 'State Name'\\n 'Common County Name' 'Metropolitan Indicator' 'HPSA Status Code'\\n 'Rural Status Code' 'HPSA Component State Abbreviation'\\n 'HPSA Population Type Code' 'County Equivalent Name New'\\n 'Complete County Name' 'centraloutlyingcounty'] not found in axis\"",
     "output_type": "error",
     "traceback": [
      "\u001b[0;31m---------------------------------------------------------------------------\u001b[0m",
      "\u001b[0;31mKeyError\u001b[0m                                  Traceback (most recent call last)",
      "\u001b[0;32m<ipython-input-15-27d3f3fff566>\u001b[0m in \u001b[0;36m<module>\u001b[0;34m\u001b[0m\n\u001b[1;32m      1\u001b[0m \u001b[0;31m# remove repetitive columns & not useful columns for Tableau visualizations\u001b[0m\u001b[0;34m\u001b[0m\u001b[0;34m\u001b[0m\u001b[0;34m\u001b[0m\u001b[0m\n\u001b[0;32m----> 2\u001b[0;31m hpsa_grants.drop(['Common State County FIPS Code', \n\u001b[0m\u001b[1;32m      3\u001b[0m                  \u001b[0;34m'Common State FIPS Code'\u001b[0m\u001b[0;34m,\u001b[0m\u001b[0;34m\u001b[0m\u001b[0;34m\u001b[0m\u001b[0m\n\u001b[1;32m      4\u001b[0m                  \u001b[0;34m'Common State Name'\u001b[0m\u001b[0;34m,\u001b[0m\u001b[0;34m\u001b[0m\u001b[0;34m\u001b[0m\u001b[0m\n\u001b[1;32m      5\u001b[0m                  \u001b[0;34m'County Equivalent Name'\u001b[0m\u001b[0;34m,\u001b[0m\u001b[0;34m\u001b[0m\u001b[0;34m\u001b[0m\u001b[0m\n",
      "\u001b[0;32m~/opt/anaconda3/lib/python3.8/site-packages/pandas/core/frame.py\u001b[0m in \u001b[0;36mdrop\u001b[0;34m(self, labels, axis, index, columns, level, inplace, errors)\u001b[0m\n\u001b[1;32m   4306\u001b[0m                 \u001b[0mweight\u001b[0m  \u001b[0;36m1.0\u001b[0m     \u001b[0;36m0.8\u001b[0m\u001b[0;34m\u001b[0m\u001b[0;34m\u001b[0m\u001b[0m\n\u001b[1;32m   4307\u001b[0m         \"\"\"\n\u001b[0;32m-> 4308\u001b[0;31m         return super().drop(\n\u001b[0m\u001b[1;32m   4309\u001b[0m             \u001b[0mlabels\u001b[0m\u001b[0;34m=\u001b[0m\u001b[0mlabels\u001b[0m\u001b[0;34m,\u001b[0m\u001b[0;34m\u001b[0m\u001b[0;34m\u001b[0m\u001b[0m\n\u001b[1;32m   4310\u001b[0m             \u001b[0maxis\u001b[0m\u001b[0;34m=\u001b[0m\u001b[0maxis\u001b[0m\u001b[0;34m,\u001b[0m\u001b[0;34m\u001b[0m\u001b[0;34m\u001b[0m\u001b[0m\n",
      "\u001b[0;32m~/opt/anaconda3/lib/python3.8/site-packages/pandas/core/generic.py\u001b[0m in \u001b[0;36mdrop\u001b[0;34m(self, labels, axis, index, columns, level, inplace, errors)\u001b[0m\n\u001b[1;32m   4151\u001b[0m         \u001b[0;32mfor\u001b[0m \u001b[0maxis\u001b[0m\u001b[0;34m,\u001b[0m \u001b[0mlabels\u001b[0m \u001b[0;32min\u001b[0m \u001b[0maxes\u001b[0m\u001b[0;34m.\u001b[0m\u001b[0mitems\u001b[0m\u001b[0;34m(\u001b[0m\u001b[0;34m)\u001b[0m\u001b[0;34m:\u001b[0m\u001b[0;34m\u001b[0m\u001b[0;34m\u001b[0m\u001b[0m\n\u001b[1;32m   4152\u001b[0m             \u001b[0;32mif\u001b[0m \u001b[0mlabels\u001b[0m \u001b[0;32mis\u001b[0m \u001b[0;32mnot\u001b[0m \u001b[0;32mNone\u001b[0m\u001b[0;34m:\u001b[0m\u001b[0;34m\u001b[0m\u001b[0;34m\u001b[0m\u001b[0m\n\u001b[0;32m-> 4153\u001b[0;31m                 \u001b[0mobj\u001b[0m \u001b[0;34m=\u001b[0m \u001b[0mobj\u001b[0m\u001b[0;34m.\u001b[0m\u001b[0m_drop_axis\u001b[0m\u001b[0;34m(\u001b[0m\u001b[0mlabels\u001b[0m\u001b[0;34m,\u001b[0m \u001b[0maxis\u001b[0m\u001b[0;34m,\u001b[0m \u001b[0mlevel\u001b[0m\u001b[0;34m=\u001b[0m\u001b[0mlevel\u001b[0m\u001b[0;34m,\u001b[0m \u001b[0merrors\u001b[0m\u001b[0;34m=\u001b[0m\u001b[0merrors\u001b[0m\u001b[0;34m)\u001b[0m\u001b[0;34m\u001b[0m\u001b[0;34m\u001b[0m\u001b[0m\n\u001b[0m\u001b[1;32m   4154\u001b[0m \u001b[0;34m\u001b[0m\u001b[0m\n\u001b[1;32m   4155\u001b[0m         \u001b[0;32mif\u001b[0m \u001b[0minplace\u001b[0m\u001b[0;34m:\u001b[0m\u001b[0;34m\u001b[0m\u001b[0;34m\u001b[0m\u001b[0m\n",
      "\u001b[0;32m~/opt/anaconda3/lib/python3.8/site-packages/pandas/core/generic.py\u001b[0m in \u001b[0;36m_drop_axis\u001b[0;34m(self, labels, axis, level, errors)\u001b[0m\n\u001b[1;32m   4186\u001b[0m                 \u001b[0mnew_axis\u001b[0m \u001b[0;34m=\u001b[0m \u001b[0maxis\u001b[0m\u001b[0;34m.\u001b[0m\u001b[0mdrop\u001b[0m\u001b[0;34m(\u001b[0m\u001b[0mlabels\u001b[0m\u001b[0;34m,\u001b[0m \u001b[0mlevel\u001b[0m\u001b[0;34m=\u001b[0m\u001b[0mlevel\u001b[0m\u001b[0;34m,\u001b[0m \u001b[0merrors\u001b[0m\u001b[0;34m=\u001b[0m\u001b[0merrors\u001b[0m\u001b[0;34m)\u001b[0m\u001b[0;34m\u001b[0m\u001b[0;34m\u001b[0m\u001b[0m\n\u001b[1;32m   4187\u001b[0m             \u001b[0;32melse\u001b[0m\u001b[0;34m:\u001b[0m\u001b[0;34m\u001b[0m\u001b[0;34m\u001b[0m\u001b[0m\n\u001b[0;32m-> 4188\u001b[0;31m                 \u001b[0mnew_axis\u001b[0m \u001b[0;34m=\u001b[0m \u001b[0maxis\u001b[0m\u001b[0;34m.\u001b[0m\u001b[0mdrop\u001b[0m\u001b[0;34m(\u001b[0m\u001b[0mlabels\u001b[0m\u001b[0;34m,\u001b[0m \u001b[0merrors\u001b[0m\u001b[0;34m=\u001b[0m\u001b[0merrors\u001b[0m\u001b[0;34m)\u001b[0m\u001b[0;34m\u001b[0m\u001b[0;34m\u001b[0m\u001b[0m\n\u001b[0m\u001b[1;32m   4189\u001b[0m             \u001b[0mresult\u001b[0m \u001b[0;34m=\u001b[0m \u001b[0mself\u001b[0m\u001b[0;34m.\u001b[0m\u001b[0mreindex\u001b[0m\u001b[0;34m(\u001b[0m\u001b[0;34m**\u001b[0m\u001b[0;34m{\u001b[0m\u001b[0maxis_name\u001b[0m\u001b[0;34m:\u001b[0m \u001b[0mnew_axis\u001b[0m\u001b[0;34m}\u001b[0m\u001b[0;34m)\u001b[0m\u001b[0;34m\u001b[0m\u001b[0;34m\u001b[0m\u001b[0m\n\u001b[1;32m   4190\u001b[0m \u001b[0;34m\u001b[0m\u001b[0m\n",
      "\u001b[0;32m~/opt/anaconda3/lib/python3.8/site-packages/pandas/core/indexes/base.py\u001b[0m in \u001b[0;36mdrop\u001b[0;34m(self, labels, errors)\u001b[0m\n\u001b[1;32m   5589\u001b[0m         \u001b[0;32mif\u001b[0m \u001b[0mmask\u001b[0m\u001b[0;34m.\u001b[0m\u001b[0many\u001b[0m\u001b[0;34m(\u001b[0m\u001b[0;34m)\u001b[0m\u001b[0;34m:\u001b[0m\u001b[0;34m\u001b[0m\u001b[0;34m\u001b[0m\u001b[0m\n\u001b[1;32m   5590\u001b[0m             \u001b[0;32mif\u001b[0m \u001b[0merrors\u001b[0m \u001b[0;34m!=\u001b[0m \u001b[0;34m\"ignore\"\u001b[0m\u001b[0;34m:\u001b[0m\u001b[0;34m\u001b[0m\u001b[0;34m\u001b[0m\u001b[0m\n\u001b[0;32m-> 5591\u001b[0;31m                 \u001b[0;32mraise\u001b[0m \u001b[0mKeyError\u001b[0m\u001b[0;34m(\u001b[0m\u001b[0;34mf\"{labels[mask]} not found in axis\"\u001b[0m\u001b[0;34m)\u001b[0m\u001b[0;34m\u001b[0m\u001b[0;34m\u001b[0m\u001b[0m\n\u001b[0m\u001b[1;32m   5592\u001b[0m             \u001b[0mindexer\u001b[0m \u001b[0;34m=\u001b[0m \u001b[0mindexer\u001b[0m\u001b[0;34m[\u001b[0m\u001b[0;34m~\u001b[0m\u001b[0mmask\u001b[0m\u001b[0;34m]\u001b[0m\u001b[0;34m\u001b[0m\u001b[0;34m\u001b[0m\u001b[0m\n\u001b[1;32m   5593\u001b[0m         \u001b[0;32mreturn\u001b[0m \u001b[0mself\u001b[0m\u001b[0;34m.\u001b[0m\u001b[0mdelete\u001b[0m\u001b[0;34m(\u001b[0m\u001b[0mindexer\u001b[0m\u001b[0;34m)\u001b[0m\u001b[0;34m\u001b[0m\u001b[0;34m\u001b[0m\u001b[0m\n",
      "\u001b[0;31mKeyError\u001b[0m: \"['Common State County FIPS Code' 'Common State FIPS Code'\\n 'Common State Name' 'County Equivalent Name' 'Common State Abbreviation'\\n 'HPSA Metropolitan Indicator Code' 'Primary State FIPS Code'\\n 'Primary State Name' 'State Abbreviation' 'State FIPS Code' 'State Name'\\n 'Common County Name' 'Metropolitan Indicator' 'HPSA Status Code'\\n 'Rural Status Code' 'HPSA Component State Abbreviation'\\n 'HPSA Population Type Code' 'County Equivalent Name New'\\n 'Complete County Name' 'centraloutlyingcounty'] not found in axis\""
     ]
    }
   ],
   "source": [
    "# remove repetitive columns & not useful columns for Tableau visualizations\n",
    "hpsa_grants.drop(['Common State County FIPS Code', \n",
    "                 'Common State FIPS Code',\n",
    "                 'Common State Name', \n",
    "                 'County Equivalent Name', \n",
    "                 'Common State Abbreviation',\n",
    "                 'HPSA Metropolitan Indicator Code', \n",
    "                 'Primary State FIPS Code', \n",
    "                 'Primary State Name',\n",
    "                 'State Abbreviation', \n",
    "                 'State FIPS Code', \n",
    "                 'State Name', \n",
    "                 'Common County Name', \n",
    "                 'Metropolitan Indicator',\n",
    "                 'HPSA Status Code',  \n",
    "                 'Rural Status Code',  \n",
    "                 'HPSA Component State Abbreviation',\n",
    "                 'HPSA Population Type Code', \n",
    "                 'County Equivalent Name New',\n",
    "                 'Complete County Name',\n",
    "                 'centraloutlyingcounty'], axis=1, inplace=True)\n",
    " \n",
    "# rename columns names\n",
    "hpsa_grants.rename({\n",
    "    'countycountyequivalent': 'County Name', \n",
    "    'statename': 'State Name',\n",
    "    'cbsacode' : 'CBSA Code',\n",
    "    'metropolitanmicropolitanstatis' : 'Metro or Micro'}, axis=1, inplace=True)"
   ]
  },
  {
   "cell_type": "code",
   "execution_count": null,
   "id": "d86f1bef",
   "metadata": {
    "scrolled": true
   },
   "outputs": [],
   "source": [
    "HPSA_Grant.columns"
   ]
  },
  {
   "cell_type": "code",
   "execution_count": null,
   "id": "17452665",
   "metadata": {},
   "outputs": [],
   "source": [
    "## save merged HPSA and Grant by CBSA columns dataset in ./Data folder \n",
    "HPSA_Grant.to_csv('./Data/hpsa_grant_cbsa.csv',index=False)"
   ]
  },
  {
   "cell_type": "code",
   "execution_count": null,
   "id": "87904c80",
   "metadata": {},
   "outputs": [],
   "source": [
    "df = HPSA_Grant[[\n",
    "    'PDEN10', 'Metro or Micro', 'County Name', 'State Name', 'Rural Status',\n",
    "    'HPSA Name', 'HPSA Component Name',\n",
    "    'HPSA Component Type Code', 'HPSA Component Type Description',\n",
    "    'HPSA Designation Population Type Description', 'HPSA Type Code',\n",
    "    'State and County Federal Information Processing Standard Code',\n",
    "    'U.S. - Mexico Border 100 Kilometer Indicator',\n",
    "    'U.S. - Mexico Border County Indicator', 'Common Region Name',\n",
    "    'County or County Equivalent Federal Information Processing Standard Code',\n",
    "    'HPSA Status', 'HPSA Geography Identification Number', 'HPSA Score',\n",
    "    'Primary State Abbreviation', 'Primary HHS Region Name',\n",
    "    'Designation Type', 'HPSA ID', 'HPSA Designation Population',\n",
    "    'HPSA Degree of Shortage', 'HPSA FTE', 'HPSA Population Type',\n",
    "    'HPSA Shortage', 'HPSA Designation Last Update Date', 'HPSA Designation Date',\n",
    "    'Withdrawn Date', 'DaysBeforeWithdrawn',\n",
    "    'CBSA Code', 'Total Active Grant Financial Assistance', 'Mental Health Assistance']]"
   ]
  },
  {
   "cell_type": "code",
   "execution_count": null,
   "id": "569544ad",
   "metadata": {},
   "outputs": [],
   "source": [
    "df.head(3)"
   ]
  },
  {
   "cell_type": "code",
   "execution_count": null,
   "id": "a400cb52",
   "metadata": {},
   "outputs": [],
   "source": [
    "# df.groupby(['PDEN10'], as_index=False).agg(\n",
    "#     {'County Name':'count',\n",
    "#      'Total Active Grant Financial Assistance':'mean',\n",
    "#     'State Name': 'count',\n",
    "#     'Rural Status' : 'count'}\n",
    "# )"
   ]
  },
  {
   "cell_type": "code",
   "execution_count": null,
   "id": "5606df8f",
   "metadata": {},
   "outputs": [],
   "source": [
    "df_final[df_final['Total Active Grant Financial Assistance q25'].isnull()][['Year','PDEN10']]"
   ]
  },
  {
   "cell_type": "code",
   "execution_count": null,
   "id": "c2bed96a",
   "metadata": {},
   "outputs": [],
   "source": [
    "# save merged df\n",
    "df_final.to_csv(\"./Data/NSDUH_HPSA_GRANT_finaldata.csv\",index=False)"
   ]
  },
  {
   "cell_type": "code",
   "execution_count": null,
   "id": "ed3387eb",
   "metadata": {},
   "outputs": [],
   "source": []
  },
  {
   "cell_type": "code",
   "execution_count": null,
   "id": "45a4b6d5",
   "metadata": {},
   "outputs": [],
   "source": []
  }
 ],
 "metadata": {
  "kernelspec": {
   "display_name": "Python 3",
   "language": "python",
   "name": "python3"
  },
  "language_info": {
   "codemirror_mode": {
    "name": "ipython",
    "version": 3
   },
   "file_extension": ".py",
   "mimetype": "text/x-python",
   "name": "python",
   "nbconvert_exporter": "python",
   "pygments_lexer": "ipython3",
   "version": "3.8.8"
  }
 },
 "nbformat": 4,
 "nbformat_minor": 5
}
