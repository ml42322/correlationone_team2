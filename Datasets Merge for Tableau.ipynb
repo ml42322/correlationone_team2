{
 "cells": [
  {
   "cell_type": "code",
   "execution_count": 1,
   "metadata": {},
   "outputs": [
    {
     "data": {
      "text/html": [
       "<style>.container {width:90% !important;}</style>"
      ],
      "text/plain": [
       "<IPython.core.display.HTML object>"
      ]
     },
     "metadata": {},
     "output_type": "display_data"
    }
   ],
   "source": [
    "import pandas as pd\n",
    "import numpy as np\n",
    "\n",
    "# Adjust notebook settings to widen the notebook\n",
    "from IPython.core.display import display, HTML\n",
    "display(HTML(\"<style>.container {width:90% !important;}</style>\"))\n",
    "pd.set_option(\"display.max_columns\", None)\n",
    "pd.set_option(\"display.max_rows\", None)"
   ]
  },
  {
   "cell_type": "code",
   "execution_count": 2,
   "metadata": {},
   "outputs": [],
   "source": [
    "hpsa = pd.read_csv(\"./Data/HPSA_Cleaned.csv\")\n",
    "nsduh = pd.read_csv(\"./Data/nsduh_data_cleaned.csv\")\n",
    "grants = pd.read_csv(\"./Data/grants_per_county_cbsa.csv\")"
   ]
  },
  {
   "cell_type": "code",
   "execution_count": 3,
   "metadata": {},
   "outputs": [
    {
     "name": "stdout",
     "output_type": "stream",
     "text": [
      "HPSA shape:(27829, 52)\n",
      "Grants shape:(2329, 11)\n",
      "NSDUH shape:(214505, 98)\n"
     ]
    }
   ],
   "source": [
    "print('HPSA shape:{}'.format(hpsa.shape))\n",
    "print('Grants shape:{}'.format(grants.shape))\n",
    "print('NSDUH shape:{}'.format(nsduh.shape))"
   ]
  },
  {
   "cell_type": "code",
   "execution_count": 4,
   "metadata": {},
   "outputs": [],
   "source": [
    "grants = grants.rename(columns={'Award Year':'Year', 'Complete County Name':'County Name'})\n",
    "grants.drop(['centraloutlyingcounty', 'centraloutlyingcounty', 'metropolitanmicropolitanstatis'], axis=1, inplace=True)"
   ]
  },
  {
   "cell_type": "code",
   "execution_count": 5,
   "metadata": {},
   "outputs": [],
   "source": [
    "# grants = grants.groupby(['Year','PDEN10'])\\\n",
    "#                 .agg({'Total Active Grant Financial Assistance':['median','mean'],\n",
    "#                      'Mental Health Assistance':['mean']}) # mental health median, q25, q75 are 0"
   ]
  },
  {
   "cell_type": "code",
   "execution_count": 6,
   "metadata": {},
   "outputs": [],
   "source": [
    "# # flatten hierarchical index \n",
    "# grants.columns = [' '.join(col).strip() for col in grants.columns.values]\n",
    "\n",
    "# grants = grants.reset_index()"
   ]
  },
  {
   "cell_type": "markdown",
   "metadata": {},
   "source": [
    "### HPSA"
   ]
  },
  {
   "cell_type": "code",
   "execution_count": 7,
   "metadata": {},
   "outputs": [],
   "source": [
    "# drop unrecognized hpsas\n",
    "hpsa = hpsa[~hpsa['metropolitanmicropolitanstatis'].isnull()]"
   ]
  },
  {
   "cell_type": "code",
   "execution_count": 8,
   "metadata": {},
   "outputs": [],
   "source": [
    "hpsa['HPSA Withdrawn Year'] = pd.to_datetime(hpsa['Withdrawn Date']).dt.year"
   ]
  },
  {
   "cell_type": "code",
   "execution_count": 9,
   "metadata": {},
   "outputs": [],
   "source": [
    "hpsa['HPSA Designation Year'] = pd.to_datetime(hpsa['HPSA Designation Date']).dt.year"
   ]
  },
  {
   "cell_type": "code",
   "execution_count": 10,
   "metadata": {},
   "outputs": [],
   "source": [
    "# remove repetitive columns & not useful columns for Tableau visualizations\n",
    "hpsa.drop(['Common State County FIPS Code', \n",
    "         'Common State FIPS Code',\n",
    "         'Common State Name', \n",
    "         'County Equivalent Name', \n",
    "         'Common State Abbreviation',\n",
    "         'HPSA Metropolitan Indicator Code', \n",
    "         'Primary State FIPS Code', \n",
    "         'Primary State Name',\n",
    "         'State Abbreviation', \n",
    "         'State FIPS Code', \n",
    "         'State Name', \n",
    "         'Common County Name', \n",
    "         'Metropolitan Indicator',\n",
    "         'HPSA Status Code',  \n",
    "         'Rural Status Code',  \n",
    "         'HPSA Component State Abbreviation',\n",
    "         'HPSA Population Type Code', \n",
    "         'County Equivalent Name New',\n",
    "         'centraloutlyingcounty'], axis=1, inplace=True)"
   ]
  },
  {
   "cell_type": "markdown",
   "metadata": {},
   "source": [
    "## NSDUH"
   ]
  },
  {
   "cell_type": "code",
   "execution_count": 11,
   "metadata": {},
   "outputs": [],
   "source": [
    "nsduh = nsduh.rename(columns={'Population_Density_2010':'PDEN10'})"
   ]
  },
  {
   "cell_type": "markdown",
   "metadata": {},
   "source": [
    "## Merge all datasets (NSDUH, HPSA, Grants)"
   ]
  },
  {
   "cell_type": "code",
   "execution_count": 12,
   "metadata": {},
   "outputs": [],
   "source": [
    "# merge HPSA and Grant by CBSA identifiers\n",
    "hpsa_grants = hpsa.merge(grants, how='left', left_on=['PDEN10', 'HPSA Designation Year' ], right_on=['PDEN10', 'Year'])"
   ]
  },
  {
   "cell_type": "code",
   "execution_count": 14,
   "metadata": {},
   "outputs": [],
   "source": [
    "# rename columns names\n",
    "hpsa_grants.rename({\n",
    "    'countycountyequivalent': 'County Name', \n",
    "    'statename': 'State Name',\n",
    "    'cbsacode' : 'CBSA Code',\n",
    "    'metropolitanmicropolitanstatis' : 'Metro or Micro'}, axis=1, inplace=True)"
   ]
  },
  {
   "cell_type": "code",
   "execution_count": 15,
   "metadata": {},
   "outputs": [],
   "source": [
    "hpsa_grants_15to19 = hpsa_grants.loc[(hpsa_grants['HPSA Designation Year']>=2015) & (hpsa_grants['HPSA Designation Year']<=2019)]"
   ]
  },
  {
   "cell_type": "code",
   "execution_count": 24,
   "metadata": {
    "scrolled": true
   },
   "outputs": [
    {
     "name": "stderr",
     "output_type": "stream",
     "text": [
      "C:\\Users\\cyap\\AppData\\Local\\Continuum\\anaconda3\\lib\\site-packages\\ipykernel_launcher.py:2: SettingWithCopyWarning: \n",
      "A value is trying to be set on a copy of a slice from a DataFrame.\n",
      "Try using .loc[row_indexer,col_indexer] = value instead\n",
      "\n",
      "See the caveats in the documentation: http://pandas.pydata.org/pandas-docs/stable/indexing.html#indexing-view-versus-copy\n",
      "  \n"
     ]
    }
   ],
   "source": [
    "hpsa_grants_15to19[['HPSA Designation Date','Withdrawn Date']] = hpsa_grants_15to19[['HPSA Designation Date','Withdrawn Date']].apply(pd.to_datetime) #if conversion required\n",
    "hpsa_grants_15to19['Days Before Withdrawn'] = (hpsa_grants_15to19['Withdrawn Date'] - hpsa_grants_15to19['HPSA Designation Date']).dt.days"
   ]
  },
  {
   "cell_type": "code",
   "execution_count": 41,
   "metadata": {},
   "outputs": [
    {
     "name": "stderr",
     "output_type": "stream",
     "text": [
      "C:\\Users\\cyap\\AppData\\Local\\Continuum\\anaconda3\\lib\\site-packages\\ipykernel_launcher.py:1: SettingWithCopyWarning: \n",
      "A value is trying to be set on a copy of a slice from a DataFrame.\n",
      "Try using .loc[row_indexer,col_indexer] = value instead\n",
      "\n",
      "See the caveats in the documentation: http://pandas.pydata.org/pandas-docs/stable/indexing.html#indexing-view-versus-copy\n",
      "  \"\"\"Entry point for launching an IPython kernel.\n"
     ]
    }
   ],
   "source": [
    "hpsa_grants_15to19['Year'] = pd.to_numeric(hpsa_grants_15to19['Year'], downcast='integer')"
   ]
  },
  {
   "cell_type": "code",
   "execution_count": 42,
   "metadata": {},
   "outputs": [],
   "source": [
    "hpsa_grants_15to19.to_csv('./Data/hpsa_grant_15to19.csv',index=False)"
   ]
  },
  {
   "cell_type": "code",
   "execution_count": 29,
   "metadata": {
    "scrolled": true
   },
   "outputs": [],
   "source": [
    "hpsa_concise = hpsa_grants_15to19.groupby(['PDEN10', 'Year'], as_index=False).agg(\n",
    "    {'Total Active Grant Financial Assistance':'mean',\n",
    "     'Mental Health Assistance':'mean',\n",
    "     'HPSA Designation Population' : 'mean',\n",
    "     'Days Before Withdrawn':'mean'})"
   ]
  },
  {
   "cell_type": "code",
   "execution_count": 30,
   "metadata": {},
   "outputs": [],
   "source": [
    "hpsa_concise['Year'] = pd.to_numeric(hpsa_concise['Year'], downcast='integer')"
   ]
  },
  {
   "cell_type": "code",
   "execution_count": 31,
   "metadata": {},
   "outputs": [
    {
     "data": {
      "text/html": [
       "<div>\n",
       "<style scoped>\n",
       "    .dataframe tbody tr th:only-of-type {\n",
       "        vertical-align: middle;\n",
       "    }\n",
       "\n",
       "    .dataframe tbody tr th {\n",
       "        vertical-align: top;\n",
       "    }\n",
       "\n",
       "    .dataframe thead th {\n",
       "        text-align: right;\n",
       "    }\n",
       "</style>\n",
       "<table border=\"1\" class=\"dataframe\">\n",
       "  <thead>\n",
       "    <tr style=\"text-align: right;\">\n",
       "      <th></th>\n",
       "      <th>PDEN10</th>\n",
       "      <th>Year</th>\n",
       "      <th>Total Active Grant Financial Assistance</th>\n",
       "      <th>Mental Health Assistance</th>\n",
       "      <th>HPSA Designation Population</th>\n",
       "      <th>Days Before Withdrawn</th>\n",
       "    </tr>\n",
       "  </thead>\n",
       "  <tbody>\n",
       "    <tr>\n",
       "      <th>0</th>\n",
       "      <td>1</td>\n",
       "      <td>2015</td>\n",
       "      <td>1.427335e+06</td>\n",
       "      <td>0.000000</td>\n",
       "      <td>104441.792208</td>\n",
       "      <td>968.099237</td>\n",
       "    </tr>\n",
       "    <tr>\n",
       "      <th>1</th>\n",
       "      <td>1</td>\n",
       "      <td>2016</td>\n",
       "      <td>1.160565e+06</td>\n",
       "      <td>2064.130137</td>\n",
       "      <td>225875.290152</td>\n",
       "      <td>1041.714455</td>\n",
       "    </tr>\n",
       "  </tbody>\n",
       "</table>\n",
       "</div>"
      ],
      "text/plain": [
       "   PDEN10  Year  Total Active Grant Financial Assistance  \\\n",
       "0       1  2015                             1.427335e+06   \n",
       "1       1  2016                             1.160565e+06   \n",
       "\n",
       "   Mental Health Assistance  HPSA Designation Population  \\\n",
       "0                  0.000000                104441.792208   \n",
       "1               2064.130137                225875.290152   \n",
       "\n",
       "   Days Before Withdrawn  \n",
       "0             968.099237  \n",
       "1            1041.714455  "
      ]
     },
     "execution_count": 31,
     "metadata": {},
     "output_type": "execute_result"
    }
   ],
   "source": [
    "hpsa_concise.head(2)"
   ]
  },
  {
   "cell_type": "code",
   "execution_count": 34,
   "metadata": {},
   "outputs": [],
   "source": [
    "# merge with nsduh dataset \n",
    "final_df = nsduh.merge(hpsa_concise, how='left', left_on=['PDEN10', 'Year' ], right_on=['PDEN10', 'Year'])"
   ]
  },
  {
   "cell_type": "code",
   "execution_count": 38,
   "metadata": {},
   "outputs": [
    {
     "data": {
      "text/plain": [
       "Index(['Unnamed: 0', 'Unnamed: 0.1', 'Identifier', 'Year',\n",
       "       'Inpatient_Past_Year', 'Outpatient_Past_Year',\n",
       "       'Prescription_Treatment_Past_Year', 'Any_Treatment_Past_Year',\n",
       "       'Treatment_Type_Past_Year', 'Perceived_Unmet_Need',\n",
       "       ...\n",
       "       'Total_Income_Family',\n",
       "       'Participated_In_One_Or_More_Government_Assistance_Programs',\n",
       "       'Total_Income_Family_Recode', 'Poverty_Level', 'PDEN10',\n",
       "       'County_Metro_NonMetro_Status',\n",
       "       'Total Active Grant Financial Assistance', 'Mental Health Assistance',\n",
       "       'HPSA Designation Population', 'Days Before Withdrawn'],\n",
       "      dtype='object', length=102)"
      ]
     },
     "execution_count": 38,
     "metadata": {},
     "output_type": "execute_result"
    }
   ],
   "source": [
    "final_df.columns"
   ]
  },
  {
   "cell_type": "code",
   "execution_count": 39,
   "metadata": {},
   "outputs": [],
   "source": [
    "final_df.drop(['Unnamed: 0', 'Unnamed: 0.1'], axis=1, inplace=True)"
   ]
  },
  {
   "cell_type": "code",
   "execution_count": 40,
   "metadata": {},
   "outputs": [],
   "source": [
    "## save merged HPSA, NSDUH, Grant by CBSA columns dataset in ./Data folder \n",
    "final_df.to_csv('./Data/final_df_tableau.csv',index=False)"
   ]
  }
 ],
 "metadata": {
  "kernelspec": {
   "display_name": "Python 3",
   "language": "python",
   "name": "python3"
  },
  "language_info": {
   "codemirror_mode": {
    "name": "ipython",
    "version": 3
   },
   "file_extension": ".py",
   "mimetype": "text/x-python",
   "name": "python",
   "nbconvert_exporter": "python",
   "pygments_lexer": "ipython3",
   "version": "3.7.3"
  }
 },
 "nbformat": 4,
 "nbformat_minor": 5
}
