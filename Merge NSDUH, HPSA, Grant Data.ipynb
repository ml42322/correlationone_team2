{
 "cells": [
  {
   "cell_type": "code",
   "execution_count": 1,
   "id": "aa2ab84e",
   "metadata": {},
   "outputs": [],
   "source": [
    "import pandas as pd\n",
    "import numpy as np\n",
    "from functools import reduce\n",
    "from sklearn.preprocessing import OneHotEncoder"
   ]
  },
  {
   "cell_type": "code",
   "execution_count": 2,
   "id": "5980bb6e",
   "metadata": {},
   "outputs": [],
   "source": [
    "# read in datasets \n",
    "nsduh = pd.read_csv(\"./Data/nsduh_data_cleaned.csv\")\n",
    "hpsa = pd.read_csv('./Data/HPSA_Cleaned.csv')\n",
    "cbsa = pd.read_csv(\"./Data/grants_per_county_cbsa.csv\")"
   ]
  },
  {
   "cell_type": "markdown",
   "id": "3ed7ca5c",
   "metadata": {},
   "source": [
    "### Group HPSA and Grant Data"
   ]
  },
  {
   "cell_type": "code",
   "execution_count": 3,
   "id": "8962facd",
   "metadata": {},
   "outputs": [],
   "source": [
    "# 25th Percentile\n",
    "def q25(x):\n",
    "    return x.quantile(0.25)\n",
    "\n",
    "# 75th Percentile\n",
    "def q75(x):\n",
    "    return x.quantile(0.75)"
   ]
  },
  {
   "cell_type": "code",
   "execution_count": 4,
   "id": "0cd0124a",
   "metadata": {},
   "outputs": [],
   "source": [
    "# drop unrecognized cbsas\n",
    "cbsa = cbsa[~cbsa['metropolitanmicropolitanstatis'].isnull()]\n",
    "\n",
    "# cbsa - flatten by year and pden10 mapper\n",
    "cbsa_flat_df = cbsa.groupby(['Award Year','PDEN10'])\\\n",
    "                .agg({'Total Active Grant Financial Assistance':['median','mean',q25, q75],\n",
    "                     'Mental Health Assistance':['mean']}) # mental health median, q25, q75 are 0\n",
    "\n",
    "# flatten hierarchical index \n",
    "cbsa_flat_df.columns = [' '.join(col).strip() for col in cbsa_flat_df.columns.values]\n",
    "\n",
    "cbsa_flat_df = cbsa_flat_df.reset_index()"
   ]
  },
  {
   "cell_type": "code",
   "execution_count": 5,
   "id": "10db8b95",
   "metadata": {},
   "outputs": [],
   "source": [
    "# drop unrecognized hpsas\n",
    "hpsa = hpsa[~hpsa['metropolitanmicropolitanstatis'].isnull()]"
   ]
  },
  {
   "cell_type": "code",
   "execution_count": 6,
   "id": "54224a62",
   "metadata": {},
   "outputs": [],
   "source": [
    "hpsa['Withdrawn Year'] = pd.to_datetime(hpsa['Withdrawn Date']).dt.year"
   ]
  },
  {
   "cell_type": "code",
   "execution_count": 7,
   "id": "e36552d6",
   "metadata": {},
   "outputs": [],
   "source": [
    "hpsa['HPSA Designation Year'] = pd.to_datetime(hpsa['HPSA Designation Date']).dt.year"
   ]
  },
  {
   "cell_type": "code",
   "execution_count": 8,
   "id": "cb976af9",
   "metadata": {},
   "outputs": [],
   "source": [
    "# clean hpsa data\n",
    "cols_to_keep_cat = ['HPSA Component Type Description','HPSA Designation Population Type Description',\n",
    "                            'U.S. - Mexico Border 100 Kilometer Indicator','Designation Type']\n",
    "cols_to_keep_num = ['Withdrawn Year','HPSA Designation Year','PDEN10','HPSA Score','HPSA Degree of Shortage','HPSA FTE','HPSA Shortage','DaysBeforeWithdrawn']"
   ]
  },
  {
   "cell_type": "code",
   "execution_count": 9,
   "id": "01bf2824",
   "metadata": {},
   "outputs": [],
   "source": [
    "enc = OneHotEncoder(drop='first')\n",
    "enc.fit(hpsa[cols_to_keep_cat])\n",
    "hpsa_cat_df = pd.DataFrame(enc.transform(hpsa[cols_to_keep_cat]).toarray(), columns=enc.get_feature_names(cols_to_keep_cat))\n"
   ]
  },
  {
   "cell_type": "code",
   "execution_count": 10,
   "id": "558b2fb8",
   "metadata": {},
   "outputs": [],
   "source": [
    "hpsa_cat_df = hpsa_cat_df.drop(columns=['HPSA Component Type Description_Unknown'])"
   ]
  },
  {
   "cell_type": "code",
   "execution_count": 11,
   "id": "68cbd9fd",
   "metadata": {},
   "outputs": [],
   "source": [
    "hpsa_full_df = pd.concat([hpsa_cat_df,hpsa[cols_to_keep_num]],axis=1)"
   ]
  },
  {
   "cell_type": "code",
   "execution_count": 12,
   "id": "dbf052b2",
   "metadata": {},
   "outputs": [],
   "source": [
    "# define active hpsas by year \n",
    "hpsa_2015 = hpsa_full_df[(hpsa_full_df['Withdrawn Year'] >= 2015) & (hpsa_full_df['HPSA Designation Year'] <= 2015)]\n",
    "hpsa_2016 = hpsa_full_df[(hpsa_full_df['Withdrawn Year'] >= 2016) & (hpsa_full_df['HPSA Designation Year'] <= 2016)]\n",
    "hpsa_2017 = hpsa_full_df[(hpsa_full_df['Withdrawn Year'] >= 2017) & (hpsa_full_df['HPSA Designation Year'] <= 2017)]\n",
    "hpsa_2018 = hpsa_full_df[(hpsa_full_df['Withdrawn Year'] >= 2018) & (hpsa_full_df['HPSA Designation Year'] <= 2018)]\n",
    "hpsa_2019 = hpsa_full_df[(hpsa_full_df['Withdrawn Year'] >= 2019) & (hpsa_full_df['HPSA Designation Year'] <= 2019)]"
   ]
  },
  {
   "cell_type": "code",
   "execution_count": 13,
   "id": "5de37dee",
   "metadata": {
    "collapsed": true
   },
   "outputs": [
    {
     "name": "stderr",
     "output_type": "stream",
     "text": [
      "<ipython-input-13-5f4b49ee1cc4>:12: SettingWithCopyWarning: \n",
      "A value is trying to be set on a copy of a slice from a DataFrame.\n",
      "Try using .loc[row_indexer,col_indexer] = value instead\n",
      "\n",
      "See the caveats in the documentation: https://pandas.pydata.org/pandas-docs/stable/user_guide/indexing.html#returning-a-view-versus-a-copy\n",
      "  df['DaysBeforeWithdrawn'] = np.where(df['Withdrawn Year'] == year, df['DaysBeforeWithdrawn'], np.nan)\n",
      "<ipython-input-13-5f4b49ee1cc4>:13: SettingWithCopyWarning: \n",
      "A value is trying to be set on a copy of a slice from a DataFrame.\n",
      "Try using .loc[row_indexer,col_indexer] = value instead\n",
      "\n",
      "See the caveats in the documentation: https://pandas.pydata.org/pandas-docs/stable/user_guide/indexing.html#returning-a-view-versus-a-copy\n",
      "  df['DaysActive_Snapshot'] = year - df['HPSA Designation Year']\n",
      "<ipython-input-13-5f4b49ee1cc4>:14: SettingWithCopyWarning: \n",
      "A value is trying to be set on a copy of a slice from a DataFrame.\n",
      "Try using .loc[row_indexer,col_indexer] = value instead\n",
      "\n",
      "See the caveats in the documentation: https://pandas.pydata.org/pandas-docs/stable/user_guide/indexing.html#returning-a-view-versus-a-copy\n",
      "  df['Year'] = year\n",
      "<ipython-input-13-5f4b49ee1cc4>:12: SettingWithCopyWarning: \n",
      "A value is trying to be set on a copy of a slice from a DataFrame.\n",
      "Try using .loc[row_indexer,col_indexer] = value instead\n",
      "\n",
      "See the caveats in the documentation: https://pandas.pydata.org/pandas-docs/stable/user_guide/indexing.html#returning-a-view-versus-a-copy\n",
      "  df['DaysBeforeWithdrawn'] = np.where(df['Withdrawn Year'] == year, df['DaysBeforeWithdrawn'], np.nan)\n",
      "<ipython-input-13-5f4b49ee1cc4>:13: SettingWithCopyWarning: \n",
      "A value is trying to be set on a copy of a slice from a DataFrame.\n",
      "Try using .loc[row_indexer,col_indexer] = value instead\n",
      "\n",
      "See the caveats in the documentation: https://pandas.pydata.org/pandas-docs/stable/user_guide/indexing.html#returning-a-view-versus-a-copy\n",
      "  df['DaysActive_Snapshot'] = year - df['HPSA Designation Year']\n",
      "<ipython-input-13-5f4b49ee1cc4>:14: SettingWithCopyWarning: \n",
      "A value is trying to be set on a copy of a slice from a DataFrame.\n",
      "Try using .loc[row_indexer,col_indexer] = value instead\n",
      "\n",
      "See the caveats in the documentation: https://pandas.pydata.org/pandas-docs/stable/user_guide/indexing.html#returning-a-view-versus-a-copy\n",
      "  df['Year'] = year\n",
      "<ipython-input-13-5f4b49ee1cc4>:12: SettingWithCopyWarning: \n",
      "A value is trying to be set on a copy of a slice from a DataFrame.\n",
      "Try using .loc[row_indexer,col_indexer] = value instead\n",
      "\n",
      "See the caveats in the documentation: https://pandas.pydata.org/pandas-docs/stable/user_guide/indexing.html#returning-a-view-versus-a-copy\n",
      "  df['DaysBeforeWithdrawn'] = np.where(df['Withdrawn Year'] == year, df['DaysBeforeWithdrawn'], np.nan)\n",
      "<ipython-input-13-5f4b49ee1cc4>:13: SettingWithCopyWarning: \n",
      "A value is trying to be set on a copy of a slice from a DataFrame.\n",
      "Try using .loc[row_indexer,col_indexer] = value instead\n",
      "\n",
      "See the caveats in the documentation: https://pandas.pydata.org/pandas-docs/stable/user_guide/indexing.html#returning-a-view-versus-a-copy\n",
      "  df['DaysActive_Snapshot'] = year - df['HPSA Designation Year']\n",
      "<ipython-input-13-5f4b49ee1cc4>:14: SettingWithCopyWarning: \n",
      "A value is trying to be set on a copy of a slice from a DataFrame.\n",
      "Try using .loc[row_indexer,col_indexer] = value instead\n",
      "\n",
      "See the caveats in the documentation: https://pandas.pydata.org/pandas-docs/stable/user_guide/indexing.html#returning-a-view-versus-a-copy\n",
      "  df['Year'] = year\n",
      "<ipython-input-13-5f4b49ee1cc4>:12: SettingWithCopyWarning: \n",
      "A value is trying to be set on a copy of a slice from a DataFrame.\n",
      "Try using .loc[row_indexer,col_indexer] = value instead\n",
      "\n",
      "See the caveats in the documentation: https://pandas.pydata.org/pandas-docs/stable/user_guide/indexing.html#returning-a-view-versus-a-copy\n",
      "  df['DaysBeforeWithdrawn'] = np.where(df['Withdrawn Year'] == year, df['DaysBeforeWithdrawn'], np.nan)\n",
      "<ipython-input-13-5f4b49ee1cc4>:13: SettingWithCopyWarning: \n",
      "A value is trying to be set on a copy of a slice from a DataFrame.\n",
      "Try using .loc[row_indexer,col_indexer] = value instead\n",
      "\n",
      "See the caveats in the documentation: https://pandas.pydata.org/pandas-docs/stable/user_guide/indexing.html#returning-a-view-versus-a-copy\n",
      "  df['DaysActive_Snapshot'] = year - df['HPSA Designation Year']\n",
      "<ipython-input-13-5f4b49ee1cc4>:14: SettingWithCopyWarning: \n",
      "A value is trying to be set on a copy of a slice from a DataFrame.\n",
      "Try using .loc[row_indexer,col_indexer] = value instead\n",
      "\n",
      "See the caveats in the documentation: https://pandas.pydata.org/pandas-docs/stable/user_guide/indexing.html#returning-a-view-versus-a-copy\n",
      "  df['Year'] = year\n",
      "<ipython-input-13-5f4b49ee1cc4>:12: SettingWithCopyWarning: \n",
      "A value is trying to be set on a copy of a slice from a DataFrame.\n",
      "Try using .loc[row_indexer,col_indexer] = value instead\n",
      "\n",
      "See the caveats in the documentation: https://pandas.pydata.org/pandas-docs/stable/user_guide/indexing.html#returning-a-view-versus-a-copy\n",
      "  df['DaysBeforeWithdrawn'] = np.where(df['Withdrawn Year'] == year, df['DaysBeforeWithdrawn'], np.nan)\n",
      "<ipython-input-13-5f4b49ee1cc4>:13: SettingWithCopyWarning: \n",
      "A value is trying to be set on a copy of a slice from a DataFrame.\n",
      "Try using .loc[row_indexer,col_indexer] = value instead\n",
      "\n",
      "See the caveats in the documentation: https://pandas.pydata.org/pandas-docs/stable/user_guide/indexing.html#returning-a-view-versus-a-copy\n",
      "  df['DaysActive_Snapshot'] = year - df['HPSA Designation Year']\n",
      "<ipython-input-13-5f4b49ee1cc4>:14: SettingWithCopyWarning: \n",
      "A value is trying to be set on a copy of a slice from a DataFrame.\n",
      "Try using .loc[row_indexer,col_indexer] = value instead\n",
      "\n",
      "See the caveats in the documentation: https://pandas.pydata.org/pandas-docs/stable/user_guide/indexing.html#returning-a-view-versus-a-copy\n",
      "  df['Year'] = year\n"
     ]
    }
   ],
   "source": [
    "year_dfs = [hpsa_2015, hpsa_2016, hpsa_2017, hpsa_2018, hpsa_2019]\n",
    "year = [2015,2016,2017,2018,2019]\n",
    "cat_cols = list(hpsa_cat_df.columns)\n",
    "cat_cols.append('Year')\n",
    "cat_cols.append('PDEN10')\n",
    "num_cols = list(cols_to_keep_num)\n",
    "num_cols.append('Year')\n",
    "\n",
    "new_year_dfs = []\n",
    "for df, year in zip(year_dfs,year):\n",
    "    \n",
    "    df['DaysBeforeWithdrawn'] = np.where(df['Withdrawn Year'] == year, df['DaysBeforeWithdrawn'], np.nan)\n",
    "    df['DaysActive_Snapshot'] = year - df['HPSA Designation Year']\n",
    "    df['Year'] = year \n",
    "    \n",
    "    df_cat = df[cat_cols].groupby(['Year','PDEN10']).sum()\n",
    "    df_num = df[num_cols].groupby(['Year','PDEN10']).agg(['mean','median',q25, q75])\n",
    "\n",
    "    df = pd.concat([df_cat.reset_index(), df_num.reset_index()],axis=1)\n",
    "    df.head()\n",
    "    new_year_dfs.append(df)"
   ]
  },
  {
   "cell_type": "code",
   "execution_count": 14,
   "id": "f798302b",
   "metadata": {},
   "outputs": [],
   "source": [
    "final_hpsa_df = pd.concat(new_year_dfs,axis=0)"
   ]
  },
  {
   "cell_type": "markdown",
   "id": "57a56964",
   "metadata": {},
   "source": [
    "### Merge Grant, HPSA, and NSDUH Data"
   ]
  },
  {
   "cell_type": "code",
   "execution_count": 15,
   "id": "8d4332e0",
   "metadata": {},
   "outputs": [],
   "source": [
    "nsduh = nsduh.rename(columns={'Population_Density_2010':'PDEN10'})\n",
    "cbsa_flat_df = cbsa_flat_df.rename(columns={'Award Year':'Year'})"
   ]
  },
  {
   "cell_type": "code",
   "execution_count": 16,
   "id": "face8a99",
   "metadata": {},
   "outputs": [],
   "source": [
    "# join hpsa and cbsa \n",
    "df_final = reduce(lambda left,right: pd.merge(left,right,on=['Year','PDEN10'],how='left'), [nsduh,final_hpsa_df,cbsa_flat_df])\n"
   ]
  },
  {
   "cell_type": "code",
   "execution_count": 17,
   "id": "48139b70",
   "metadata": {},
   "outputs": [],
   "source": [
    "df_final = df_final.drop(columns=['Unnamed: 0', 'Unnamed: 0.1'])"
   ]
  },
  {
   "cell_type": "code",
   "execution_count": 21,
   "id": "b6a3f0f5",
   "metadata": {},
   "outputs": [
    {
     "data": {
      "text/html": [
       "<div>\n",
       "<style scoped>\n",
       "    .dataframe tbody tr th:only-of-type {\n",
       "        vertical-align: middle;\n",
       "    }\n",
       "\n",
       "    .dataframe tbody tr th {\n",
       "        vertical-align: top;\n",
       "    }\n",
       "\n",
       "    .dataframe thead th {\n",
       "        text-align: right;\n",
       "    }\n",
       "</style>\n",
       "<table border=\"1\" class=\"dataframe\">\n",
       "  <thead>\n",
       "    <tr style=\"text-align: right;\">\n",
       "      <th></th>\n",
       "      <th>Year</th>\n",
       "      <th>PDEN10</th>\n",
       "    </tr>\n",
       "  </thead>\n",
       "  <tbody>\n",
       "    <tr>\n",
       "      <th>2</th>\n",
       "      <td>2015</td>\n",
       "      <td>3</td>\n",
       "    </tr>\n",
       "    <tr>\n",
       "      <th>17</th>\n",
       "      <td>2015</td>\n",
       "      <td>3</td>\n",
       "    </tr>\n",
       "    <tr>\n",
       "      <th>70</th>\n",
       "      <td>2015</td>\n",
       "      <td>3</td>\n",
       "    </tr>\n",
       "    <tr>\n",
       "      <th>82</th>\n",
       "      <td>2015</td>\n",
       "      <td>3</td>\n",
       "    </tr>\n",
       "    <tr>\n",
       "      <th>102</th>\n",
       "      <td>2015</td>\n",
       "      <td>3</td>\n",
       "    </tr>\n",
       "    <tr>\n",
       "      <th>...</th>\n",
       "      <td>...</td>\n",
       "      <td>...</td>\n",
       "    </tr>\n",
       "    <tr>\n",
       "      <th>214458</th>\n",
       "      <td>2019</td>\n",
       "      <td>3</td>\n",
       "    </tr>\n",
       "    <tr>\n",
       "      <th>214462</th>\n",
       "      <td>2019</td>\n",
       "      <td>3</td>\n",
       "    </tr>\n",
       "    <tr>\n",
       "      <th>214476</th>\n",
       "      <td>2019</td>\n",
       "      <td>3</td>\n",
       "    </tr>\n",
       "    <tr>\n",
       "      <th>214496</th>\n",
       "      <td>2019</td>\n",
       "      <td>3</td>\n",
       "    </tr>\n",
       "    <tr>\n",
       "      <th>214503</th>\n",
       "      <td>2019</td>\n",
       "      <td>3</td>\n",
       "    </tr>\n",
       "  </tbody>\n",
       "</table>\n",
       "<p>16922 rows × 2 columns</p>\n",
       "</div>"
      ],
      "text/plain": [
       "        Year  PDEN10\n",
       "2       2015       3\n",
       "17      2015       3\n",
       "70      2015       3\n",
       "82      2015       3\n",
       "102     2015       3\n",
       "...      ...     ...\n",
       "214458  2019       3\n",
       "214462  2019       3\n",
       "214476  2019       3\n",
       "214496  2019       3\n",
       "214503  2019       3\n",
       "\n",
       "[16922 rows x 2 columns]"
      ]
     },
     "execution_count": 21,
     "metadata": {},
     "output_type": "execute_result"
    }
   ],
   "source": [
    "df_final[df_final['Total Active Grant Financial Assistance q25'].isnull()][['Year','PDEN10']]"
   ]
  },
  {
   "cell_type": "markdown",
   "id": "e5c1bf8f",
   "metadata": {},
   "source": [
    "### Save the fully merged df"
   ]
  },
  {
   "cell_type": "code",
   "execution_count": 18,
   "id": "b298d3e1",
   "metadata": {},
   "outputs": [],
   "source": [
    "df_final.to_csv(\"./Data/NSDUH_HPSA_GRANT_finaldata.csv\",index=False)"
   ]
  }
 ],
 "metadata": {
  "kernelspec": {
   "display_name": "Python 3",
   "language": "python",
   "name": "python3"
  },
  "language_info": {
   "codemirror_mode": {
    "name": "ipython",
    "version": 3
   },
   "file_extension": ".py",
   "mimetype": "text/x-python",
   "name": "python",
   "nbconvert_exporter": "python",
   "pygments_lexer": "ipython3",
   "version": "3.8.8"
  }
 },
 "nbformat": 4,
 "nbformat_minor": 5
}
