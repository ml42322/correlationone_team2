{
 "cells": [
  {
   "cell_type": "code",
   "execution_count": 1,
   "id": "cac588b2",
   "metadata": {},
   "outputs": [],
   "source": [
    "import pandas as pd\n",
    "import numpy as np\n",
    "from functools import reduce\n",
    "from sklearn.preprocessing import OneHotEncoder"
   ]
  },
  {
   "cell_type": "code",
   "execution_count": 2,
   "id": "5a610ac6",
   "metadata": {},
   "outputs": [],
   "source": [
    "# read in datasets \n",
    "nsduh = pd.read_csv(\"./Data/nsduh_data_cleaned.csv\")\n",
    "hpsa = pd.read_csv('./Data/HPSA_Cleaned.csv')\n",
    "cbsa = pd.read_csv(\"./Data/grants_per_county_cbsa.csv\")"
   ]
  },
  {
   "cell_type": "markdown",
   "id": "45e55736",
   "metadata": {},
   "source": [
    "### Group HPSA and Grant Data"
   ]
  },
  {
   "cell_type": "code",
   "execution_count": 3,
   "id": "18cac96f",
   "metadata": {},
   "outputs": [],
   "source": [
    "# 25th Percentile\n",
    "def q25(x):\n",
    "    return x.quantile(0.25)\n",
    "\n",
    "# 75th Percentile\n",
    "def q75(x):\n",
    "    return x.quantile(0.75)"
   ]
  },
  {
   "cell_type": "code",
   "execution_count": 4,
   "id": "9a237426",
   "metadata": {},
   "outputs": [],
   "source": [
    "# drop unrecognized cbsas\n",
    "cbsa = cbsa[~cbsa['metropolitanmicropolitanstatis'].isnull()]\n",
    "\n",
    "# cbsa - flatten by year and pden10 mapper\n",
    "cbsa_flat_df = cbsa.groupby(['Award Year','PDEN10'])\\\n",
    "                .agg({'Total Active Grant Financial Assistance':['median','mean',q25, q75],\n",
    "                     'Mental Health Assistance':['mean']}) # mental health median, q25, q75 are 0\n",
    "\n",
    "# flatten hierarchical index \n",
    "cbsa_flat_df.columns = [' '.join(col).strip() for col in cbsa_flat_df.columns.values]\n",
    "\n",
    "cbsa_flat_df = cbsa_flat_df.reset_index()"
   ]
  },
  {
   "cell_type": "code",
   "execution_count": 5,
   "id": "5aee0e31",
   "metadata": {},
   "outputs": [],
   "source": [
    "# drop unrecognized hpsas\n",
    "hpsa = hpsa[~hpsa['metropolitanmicropolitanstatis'].isnull()]"
   ]
  },
  {
   "cell_type": "code",
   "execution_count": 6,
   "id": "7fc8d6d7",
   "metadata": {},
   "outputs": [],
   "source": [
    "hpsa['Withdrawn Year'] = pd.to_datetime(hpsa['Withdrawn Date']).dt.year"
   ]
  },
  {
   "cell_type": "code",
   "execution_count": 7,
   "id": "0ae04257",
   "metadata": {},
   "outputs": [],
   "source": [
    "hpsa['HPSA Designation Year'] = pd.to_datetime(hpsa['HPSA Designation Date']).dt.year"
   ]
  },
  {
   "cell_type": "code",
   "execution_count": 8,
   "id": "9356f34e",
   "metadata": {},
   "outputs": [],
   "source": [
    "# clean hpsa data\n",
    "cols_to_keep_cat = ['HPSA Component Type Description','HPSA Designation Population Type Description',\n",
    "                            'U.S. - Mexico Border 100 Kilometer Indicator','Designation Type']\n",
    "cols_to_keep_num = ['Withdrawn Year','HPSA Designation Year','PDEN10','HPSA Score','HPSA Degree of Shortage','HPSA FTE','HPSA Shortage','DaysBeforeWithdrawn']"
   ]
  },
  {
   "cell_type": "code",
   "execution_count": 9,
   "id": "f93dfbcd",
   "metadata": {},
   "outputs": [],
   "source": [
    "enc = OneHotEncoder(drop='first')\n",
    "enc.fit(hpsa[cols_to_keep_cat])\n",
    "hpsa_cat_df = pd.DataFrame(enc.transform(hpsa[cols_to_keep_cat]).toarray(), columns=enc.get_feature_names(cols_to_keep_cat))\n"
   ]
  },
  {
   "cell_type": "code",
   "execution_count": 10,
   "id": "00945427",
   "metadata": {},
   "outputs": [],
   "source": [
    "hpsa_cat_df = hpsa_cat_df.drop(columns=['HPSA Component Type Description_Unknown'])"
   ]
  },
  {
   "cell_type": "code",
   "execution_count": 11,
   "id": "9f58fcc3",
   "metadata": {},
   "outputs": [],
   "source": [
    "hpsa_full_df = pd.concat([hpsa_cat_df,hpsa[cols_to_keep_num]],axis=1)"
   ]
  },
  {
   "cell_type": "code",
   "execution_count": 12,
   "id": "bb9c0e16",
   "metadata": {},
   "outputs": [],
   "source": [
    "# define active hpsas by year \n",
    "hpsa_2015 = hpsa_full_df[(hpsa_full_df['Withdrawn Year'] >= 2015) & (hpsa_full_df['HPSA Designation Year'] <= 2015)]\n",
    "hpsa_2016 = hpsa_full_df[(hpsa_full_df['Withdrawn Year'] >= 2016) & (hpsa_full_df['HPSA Designation Year'] <= 2016)]\n",
    "hpsa_2017 = hpsa_full_df[(hpsa_full_df['Withdrawn Year'] >= 2017) & (hpsa_full_df['HPSA Designation Year'] <= 2017)]\n",
    "hpsa_2018 = hpsa_full_df[(hpsa_full_df['Withdrawn Year'] >= 2018) & (hpsa_full_df['HPSA Designation Year'] <= 2018)]\n",
    "hpsa_2019 = hpsa_full_df[(hpsa_full_df['Withdrawn Year'] >= 2019) & (hpsa_full_df['HPSA Designation Year'] <= 2019)]"
   ]
  },
  {
   "cell_type": "code",
   "execution_count": 13,
   "id": "b4d44e80",
   "metadata": {
    "collapsed": true
   },
   "outputs": [
    {
     "name": "stderr",
     "output_type": "stream",
     "text": [
      "<ipython-input-13-5f4b49ee1cc4>:12: SettingWithCopyWarning: \n",
      "A value is trying to be set on a copy of a slice from a DataFrame.\n",
      "Try using .loc[row_indexer,col_indexer] = value instead\n",
      "\n",
      "See the caveats in the documentation: https://pandas.pydata.org/pandas-docs/stable/user_guide/indexing.html#returning-a-view-versus-a-copy\n",
      "  df['DaysBeforeWithdrawn'] = np.where(df['Withdrawn Year'] == year, df['DaysBeforeWithdrawn'], np.nan)\n",
      "<ipython-input-13-5f4b49ee1cc4>:13: SettingWithCopyWarning: \n",
      "A value is trying to be set on a copy of a slice from a DataFrame.\n",
      "Try using .loc[row_indexer,col_indexer] = value instead\n",
      "\n",
      "See the caveats in the documentation: https://pandas.pydata.org/pandas-docs/stable/user_guide/indexing.html#returning-a-view-versus-a-copy\n",
      "  df['DaysActive_Snapshot'] = year - df['HPSA Designation Year']\n",
      "<ipython-input-13-5f4b49ee1cc4>:14: SettingWithCopyWarning: \n",
      "A value is trying to be set on a copy of a slice from a DataFrame.\n",
      "Try using .loc[row_indexer,col_indexer] = value instead\n",
      "\n",
      "See the caveats in the documentation: https://pandas.pydata.org/pandas-docs/stable/user_guide/indexing.html#returning-a-view-versus-a-copy\n",
      "  df['Year'] = year\n",
      "<ipython-input-13-5f4b49ee1cc4>:12: SettingWithCopyWarning: \n",
      "A value is trying to be set on a copy of a slice from a DataFrame.\n",
      "Try using .loc[row_indexer,col_indexer] = value instead\n",
      "\n",
      "See the caveats in the documentation: https://pandas.pydata.org/pandas-docs/stable/user_guide/indexing.html#returning-a-view-versus-a-copy\n",
      "  df['DaysBeforeWithdrawn'] = np.where(df['Withdrawn Year'] == year, df['DaysBeforeWithdrawn'], np.nan)\n",
      "<ipython-input-13-5f4b49ee1cc4>:13: SettingWithCopyWarning: \n",
      "A value is trying to be set on a copy of a slice from a DataFrame.\n",
      "Try using .loc[row_indexer,col_indexer] = value instead\n",
      "\n",
      "See the caveats in the documentation: https://pandas.pydata.org/pandas-docs/stable/user_guide/indexing.html#returning-a-view-versus-a-copy\n",
      "  df['DaysActive_Snapshot'] = year - df['HPSA Designation Year']\n",
      "<ipython-input-13-5f4b49ee1cc4>:14: SettingWithCopyWarning: \n",
      "A value is trying to be set on a copy of a slice from a DataFrame.\n",
      "Try using .loc[row_indexer,col_indexer] = value instead\n",
      "\n",
      "See the caveats in the documentation: https://pandas.pydata.org/pandas-docs/stable/user_guide/indexing.html#returning-a-view-versus-a-copy\n",
      "  df['Year'] = year\n",
      "<ipython-input-13-5f4b49ee1cc4>:12: SettingWithCopyWarning: \n",
      "A value is trying to be set on a copy of a slice from a DataFrame.\n",
      "Try using .loc[row_indexer,col_indexer] = value instead\n",
      "\n",
      "See the caveats in the documentation: https://pandas.pydata.org/pandas-docs/stable/user_guide/indexing.html#returning-a-view-versus-a-copy\n",
      "  df['DaysBeforeWithdrawn'] = np.where(df['Withdrawn Year'] == year, df['DaysBeforeWithdrawn'], np.nan)\n",
      "<ipython-input-13-5f4b49ee1cc4>:13: SettingWithCopyWarning: \n",
      "A value is trying to be set on a copy of a slice from a DataFrame.\n",
      "Try using .loc[row_indexer,col_indexer] = value instead\n",
      "\n",
      "See the caveats in the documentation: https://pandas.pydata.org/pandas-docs/stable/user_guide/indexing.html#returning-a-view-versus-a-copy\n",
      "  df['DaysActive_Snapshot'] = year - df['HPSA Designation Year']\n",
      "<ipython-input-13-5f4b49ee1cc4>:14: SettingWithCopyWarning: \n",
      "A value is trying to be set on a copy of a slice from a DataFrame.\n",
      "Try using .loc[row_indexer,col_indexer] = value instead\n",
      "\n",
      "See the caveats in the documentation: https://pandas.pydata.org/pandas-docs/stable/user_guide/indexing.html#returning-a-view-versus-a-copy\n",
      "  df['Year'] = year\n",
      "<ipython-input-13-5f4b49ee1cc4>:12: SettingWithCopyWarning: \n",
      "A value is trying to be set on a copy of a slice from a DataFrame.\n",
      "Try using .loc[row_indexer,col_indexer] = value instead\n",
      "\n",
      "See the caveats in the documentation: https://pandas.pydata.org/pandas-docs/stable/user_guide/indexing.html#returning-a-view-versus-a-copy\n",
      "  df['DaysBeforeWithdrawn'] = np.where(df['Withdrawn Year'] == year, df['DaysBeforeWithdrawn'], np.nan)\n",
      "<ipython-input-13-5f4b49ee1cc4>:13: SettingWithCopyWarning: \n",
      "A value is trying to be set on a copy of a slice from a DataFrame.\n",
      "Try using .loc[row_indexer,col_indexer] = value instead\n",
      "\n",
      "See the caveats in the documentation: https://pandas.pydata.org/pandas-docs/stable/user_guide/indexing.html#returning-a-view-versus-a-copy\n",
      "  df['DaysActive_Snapshot'] = year - df['HPSA Designation Year']\n",
      "<ipython-input-13-5f4b49ee1cc4>:14: SettingWithCopyWarning: \n",
      "A value is trying to be set on a copy of a slice from a DataFrame.\n",
      "Try using .loc[row_indexer,col_indexer] = value instead\n",
      "\n",
      "See the caveats in the documentation: https://pandas.pydata.org/pandas-docs/stable/user_guide/indexing.html#returning-a-view-versus-a-copy\n",
      "  df['Year'] = year\n",
      "<ipython-input-13-5f4b49ee1cc4>:12: SettingWithCopyWarning: \n",
      "A value is trying to be set on a copy of a slice from a DataFrame.\n",
      "Try using .loc[row_indexer,col_indexer] = value instead\n",
      "\n",
      "See the caveats in the documentation: https://pandas.pydata.org/pandas-docs/stable/user_guide/indexing.html#returning-a-view-versus-a-copy\n",
      "  df['DaysBeforeWithdrawn'] = np.where(df['Withdrawn Year'] == year, df['DaysBeforeWithdrawn'], np.nan)\n",
      "<ipython-input-13-5f4b49ee1cc4>:13: SettingWithCopyWarning: \n",
      "A value is trying to be set on a copy of a slice from a DataFrame.\n",
      "Try using .loc[row_indexer,col_indexer] = value instead\n",
      "\n",
      "See the caveats in the documentation: https://pandas.pydata.org/pandas-docs/stable/user_guide/indexing.html#returning-a-view-versus-a-copy\n",
      "  df['DaysActive_Snapshot'] = year - df['HPSA Designation Year']\n",
      "<ipython-input-13-5f4b49ee1cc4>:14: SettingWithCopyWarning: \n",
      "A value is trying to be set on a copy of a slice from a DataFrame.\n",
      "Try using .loc[row_indexer,col_indexer] = value instead\n",
      "\n",
      "See the caveats in the documentation: https://pandas.pydata.org/pandas-docs/stable/user_guide/indexing.html#returning-a-view-versus-a-copy\n",
      "  df['Year'] = year\n"
     ]
    }
   ],
   "source": [
    "year_dfs = [hpsa_2015, hpsa_2016, hpsa_2017, hpsa_2018, hpsa_2019]\n",
    "year = [2015,2016,2017,2018,2019]\n",
    "cat_cols = list(hpsa_cat_df.columns)\n",
    "cat_cols.append('Year')\n",
    "cat_cols.append('PDEN10')\n",
    "num_cols = list(cols_to_keep_num)\n",
    "num_cols.append('Year')\n",
    "\n",
    "new_year_dfs = []\n",
    "for df, year in zip(year_dfs,year):\n",
    "    \n",
    "    df['DaysBeforeWithdrawn'] = np.where(df['Withdrawn Year'] == year, df['DaysBeforeWithdrawn'], np.nan)\n",
    "    df['DaysActive_Snapshot'] = year - df['HPSA Designation Year']\n",
    "    df['Year'] = year \n",
    "    \n",
    "    df_cat = df[cat_cols].groupby(['Year','PDEN10']).sum()\n",
    "    df_num = df[num_cols].groupby(['Year','PDEN10']).agg(['mean','median',q25, q75])\n",
    "\n",
    "    df = pd.concat([df_cat.reset_index(), df_num.reset_index()],axis=1)\n",
    "    df.head()\n",
    "    new_year_dfs.append(df)"
   ]
  },
  {
   "cell_type": "code",
   "execution_count": 14,
   "id": "c83e2988",
   "metadata": {},
   "outputs": [],
   "source": [
    "final_hpsa_df = pd.concat(new_year_dfs,axis=0)"
   ]
  },
  {
   "cell_type": "markdown",
   "id": "a87fc3cb",
   "metadata": {},
   "source": [
    "### Merge Grant, HPSA, and NSDUH Data"
   ]
  },
  {
   "cell_type": "code",
   "execution_count": 15,
   "id": "54fd525d",
   "metadata": {},
   "outputs": [],
   "source": [
    "nsduh = nsduh.rename(columns={'Population_Density_2010':'PDEN10'})\n",
    "cbsa_flat_df = cbsa_flat_df.rename(columns={'Award Year':'Year'})"
   ]
  },
  {
   "cell_type": "code",
   "execution_count": 16,
   "id": "db039854",
   "metadata": {},
   "outputs": [],
   "source": [
    "# join hpsa and cbsa \n",
    "df_final = reduce(lambda left,right: pd.merge(left,right,on=['Year','PDEN10'],how='left'), [nsduh,final_hpsa_df,cbsa_flat_df])\n"
   ]
  },
  {
   "cell_type": "code",
   "execution_count": 17,
   "id": "9068fdc1",
   "metadata": {},
   "outputs": [],
   "source": [
    "df_final = df_final.drop(columns=['Unnamed: 0', 'Unnamed: 0.1'])"
   ]
  },
  {
   "cell_type": "markdown",
   "id": "823275cd",
   "metadata": {},
   "source": [
    "### Save the fully merged df"
   ]
  },
  {
   "cell_type": "code",
   "execution_count": 18,
   "id": "7912f909",
   "metadata": {},
   "outputs": [],
   "source": [
    "df_final.to_csv(\"./Data/NSDUH_HPSA_GRANT_finaldata.csv\",index=False)"
   ]
  }
 ],
 "metadata": {
  "kernelspec": {
   "display_name": "Python 3",
   "language": "python",
   "name": "python3"
  },
  "language_info": {
   "codemirror_mode": {
    "name": "ipython",
    "version": 3
   },
   "file_extension": ".py",
   "mimetype": "text/x-python",
   "name": "python",
   "nbconvert_exporter": "python",
   "pygments_lexer": "ipython3",
   "version": "3.8.8"
  }
 },
 "nbformat": 4,
 "nbformat_minor": 5
}
