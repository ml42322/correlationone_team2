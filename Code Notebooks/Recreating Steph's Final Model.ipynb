{
 "cells": [
  {
   "cell_type": "code",
   "execution_count": 1,
   "id": "000ec037",
   "metadata": {},
   "outputs": [],
   "source": [
    "import pandas as pd\n",
    "import numpy as np\n",
    "from statsmodels.stats.outliers_influence import variance_inflation_factor\n",
    "import statsmodels.api as sm\n",
    "from scipy.stats import chi2_contingency\n",
    "from sklearn.preprocessing import LabelEncoder\n",
    "from sklearn import feature_selection\n",
    "import matplotlib.pyplot as plt\n",
    "from sklearn.linear_model import LogisticRegression\n",
    "from sklearn.model_selection import train_test_split\n",
    "import matplotlib.pyplot as pyplot\n",
    "import seaborn as sns\n",
    "from sklearn import metrics\n",
    "from imblearn.over_sampling import RandomOverSampler\n",
    "from imblearn.under_sampling import RandomUnderSampler\n",
    "from sklearn.metrics import roc_auc_score, roc_curve, auc\n"
   ]
  },
  {
   "cell_type": "code",
   "execution_count": 2,
   "id": "07d8c3ba",
   "metadata": {},
   "outputs": [],
   "source": [
    "df = pd.read_csv(\"./Data/nsduh_data_cleaned.csv\")"
   ]
  },
  {
   "cell_type": "code",
   "execution_count": 7,
   "id": "af6705c6",
   "metadata": {},
   "outputs": [],
   "source": [
    "df['Overall_Health_Fair_Poor'] = np.where(df['Overall_Health'].isin([4,5]),1,0)\n",
    "df['Education_Category_Less_than_HS'] = np.where(df['Education_Category'] == 1,1,0)\n",
    "df['Adult_Employment_Status_Unemployed'] = np.where(df['Adult_Employment_Status'] == 3,1,0)\n",
    "df['Education_Category_HS_Grad'] = np.where(df['Education_Category'] == 2,1,0)\n",
    "df['Overall_Health_Good'] = np.where(df['Overall_Health'] == 3,1,0)\n",
    "df['Adult_Employment_Status_Other'] = np.where(df['Adult_Employment_Status'] == 4,1,0)\n",
    "df['Education_Category_Some_College_Assoc'] = np.where(df['Education_Category'] == 3,1,0)\n",
    "df['Gender_Male'] = np.where(df['Gender'] == 1, 1,0)\n",
    "df['Total_Income_Family_Recode_75000orMore'] = np.where(df['Total_Income_Family_Recode'] == 4,1,0)\n",
    "df['Age_Category_Six_Levels_50-64'] = np.where(df['Age_Category_Six_Levels'] == 5,1,0)\n",
    "df['Age_Category_Six_Levels_35-49'] = np.where(df['Age_Category_Six_Levels'] == 4,1,0)\n",
    "df['Age_Category_Six_Levels_26-34'] = np.where(df['Age_Category_Six_Levels'] == 3,1,0)\n",
    "df['Age_Category_Six_Levels_65_And_Above'] = np.where(df['Age_Category_Six_Levels'] == 6,1,0)\n",
    "df['Overall_Health_Very_Good'] = np.where(df['Overall_Health'] == 2,1,0)\n",
    "df['Race_Ethnicity_Black'] = np.where(df['Race_Ethnicity'] == 2,1,0)\n",
    "df['Treatment_Type_Past_Year_Inpatient_Only'] = np.where(df['Treatment_Type_Past_Year'] == 1,1,0)\n",
    "df['PDEN10_Less_than_1_Mil'] = np.where(df['PDEN10'] == 2,1,0)"
   ]
  },
  {
   "cell_type": "code",
   "execution_count": 8,
   "id": "7128b1fb",
   "metadata": {},
   "outputs": [],
   "source": [
    "df = df.dropna()\n",
    "X = df.drop(['Serious_Psychological_Distress_Indicator_Past_Month','Id','Serious_Psychological_Distress_Indicator_Past_Year'], axis=1) # independent variables data\n",
    "y = df['Serious_Psychological_Distress_Indicator_Past_Month']  # dependent variable data\n"
   ]
  },
  {
   "cell_type": "code",
   "execution_count": 9,
   "id": "612c29f4",
   "metadata": {},
   "outputs": [],
   "source": [
    "cols = ['Overall_Health_Fair_Poor',\n",
    "'Education_Category_Less_than_HS',\n",
    "'Perceived_Unmet_Need',\n",
    "'Adult_Employment_Status_Unemployed',\n",
    "'Education_Category_HS_Grad',\n",
    "'Overall_Health_Good',\n",
    "'Worst_Psychological_Distress_Level',\n",
    "'Adult_Employment_Status_Other',\n",
    "'Education_Category_Some_College_Assoc',\n",
    "'Gender_Male',\n",
    "'Num_Days_Skipped_Work_Past_30_Days',\n",
    "'Year',\n",
    "'Total_Income_Family_Recode_75000orMore',\n",
    "'Age_Category_Six_Levels_50-64',\n",
    "'Age_Category_Six_Levels_35-49',\n",
    "'Age_Category_Six_Levels_26-34',\n",
    "'Age_Category_Six_Levels_65_And_Above',\n",
    "'Overall_Health_Very_Good',\n",
    "'Race_Ethnicity_Black',\n",
    "'Treatment_Type_Past_Year_Inpatient_Only',\n",
    "'PDEN10_Less_than_1_Mil']"
   ]
  },
  {
   "cell_type": "code",
   "execution_count": 10,
   "id": "0cc4de7d",
   "metadata": {},
   "outputs": [
    {
     "name": "stdout",
     "output_type": "stream",
     "text": [
      "0    190076\n",
      "1     24429\n",
      "Name: Overall_Health_Fair_Poor, dtype: int64\n",
      "0    186650\n",
      "1     27855\n",
      "Name: Education_Category_Less_than_HS, dtype: int64\n",
      " 0    196836\n",
      " 1     16550\n",
      "-1      1119\n",
      "Name: Perceived_Unmet_Need, dtype: int64\n",
      "0    201595\n",
      "1     12910\n",
      "Name: Adult_Employment_Status_Unemployed, dtype: int64\n",
      "0    157447\n",
      "1     57058\n",
      "Name: Education_Category_HS_Grad, dtype: int64\n",
      "0    154274\n",
      "1     60231\n",
      "Name: Overall_Health_Good, dtype: int64\n",
      "0     47229\n",
      "2     19607\n",
      "1     19585\n",
      "3     16364\n",
      "4     15036\n",
      "5     11712\n",
      "6     11489\n",
      "7      8512\n",
      "8      7389\n",
      "12     7225\n",
      "9      6220\n",
      "10     5593\n",
      "11     5057\n",
      "18     4575\n",
      "13     4313\n",
      "24     4118\n",
      "14     3835\n",
      "15     3392\n",
      "16     3159\n",
      "17     2891\n",
      "19     1976\n",
      "20     1798\n",
      "21     1341\n",
      "22     1147\n",
      "23      942\n",
      "Name: Worst_Psychological_Distress_Level, dtype: int64\n",
      "0    158153\n",
      "1     56352\n",
      "Name: Adult_Employment_Status_Other, dtype: int64\n",
      "0    142524\n",
      "1     71981\n",
      "Name: Education_Category_Some_College_Assoc, dtype: int64\n",
      "0    114736\n",
      "1     99769\n",
      "Name: Gender_Male, dtype: int64\n",
      " 0     191344\n",
      " 1       8380\n",
      " 2       5526\n",
      "-1       3974\n",
      " 3       1881\n",
      " 5       1056\n",
      " 4        930\n",
      " 10       291\n",
      " 7        254\n",
      " 6        193\n",
      " 8        104\n",
      " 12        84\n",
      " 20        79\n",
      " 30        79\n",
      " 15        73\n",
      " 9         72\n",
      " 14        50\n",
      " 11        23\n",
      " 22        18\n",
      " 13        14\n",
      " 21        13\n",
      " 23        12\n",
      " 25        10\n",
      " 24         7\n",
      " 29         6\n",
      " 16         6\n",
      " 17         6\n",
      " 19         5\n",
      " 18         5\n",
      " 26         4\n",
      " 27         3\n",
      " 28         3\n",
      "Name: Num_Days_Skipped_Work_Past_30_Days, dtype: int64\n",
      "2015    43561\n",
      "2018    43026\n",
      "2019    42739\n",
      "2016    42625\n",
      "2017    42554\n",
      "Name: Year, dtype: int64\n",
      "0    143395\n",
      "1     71110\n",
      "Name: Total_Income_Family_Recode_75000orMore, dtype: int64\n",
      "0    189292\n",
      "1     25213\n",
      "Name: Age_Category_Six_Levels_50-64, dtype: int64\n",
      "0    157939\n",
      "1     56566\n",
      "Name: Age_Category_Six_Levels_35-49, dtype: int64\n",
      "0    170489\n",
      "1     44016\n",
      "Name: Age_Category_Six_Levels_26-34, dtype: int64\n",
      "0    195711\n",
      "1     18794\n",
      "Name: Age_Category_Six_Levels_65_And_Above, dtype: int64\n",
      "0    133874\n",
      "1     80631\n",
      "Name: Overall_Health_Very_Good, dtype: int64\n",
      "0    187424\n",
      "1     27081\n",
      "Name: Race_Ethnicity_Black, dtype: int64\n",
      "0    213909\n",
      "1       596\n",
      "Name: Treatment_Type_Past_Year_Inpatient_Only, dtype: int64\n",
      "0    108256\n",
      "1    106249\n",
      "Name: PDEN10_Less_than_1_Mil, dtype: int64\n"
     ]
    }
   ],
   "source": [
    "for col in cols:\n",
    "    print(X[col].value_counts())"
   ]
  },
  {
   "cell_type": "code",
   "execution_count": 11,
   "id": "6d88041d",
   "metadata": {},
   "outputs": [
    {
     "name": "stdout",
     "output_type": "stream",
     "text": [
      "Accuracy for X_forward: 0.9426307090284939\n"
     ]
    },
    {
     "name": "stderr",
     "output_type": "stream",
     "text": [
      "/Users/michellli/opt/anaconda3/lib/python3.8/site-packages/sklearn/linear_model/_logistic.py:763: ConvergenceWarning: lbfgs failed to converge (status=1):\n",
      "STOP: TOTAL NO. of ITERATIONS REACHED LIMIT.\n",
      "\n",
      "Increase the number of iterations (max_iter) or scale the data as shown in:\n",
      "    https://scikit-learn.org/stable/modules/preprocessing.html\n",
      "Please also refer to the documentation for alternative solver options:\n",
      "    https://scikit-learn.org/stable/modules/linear_model.html#logistic-regression\n",
      "  n_iter_i = _check_optimize_result(\n"
     ]
    }
   ],
   "source": [
    "X_train, X_test, y_train, y_test = train_test_split(X[cols], y, test_size=0.33, random_state=42)\n",
    "logisticRegr = LogisticRegression()\n",
    "logisticRegr.fit(X_test, y_test)\n",
    "predictions = logisticRegr.predict(X_test)\n",
    "score = logisticRegr.score(X_test, y_test)\n",
    "print('Accuracy for X_forward: {}'.format(score))"
   ]
  },
  {
   "cell_type": "code",
   "execution_count": 12,
   "id": "4153b79e",
   "metadata": {},
   "outputs": [],
   "source": [
    "X = X.dropna()"
   ]
  },
  {
   "cell_type": "code",
   "execution_count": 13,
   "id": "b05c9dac",
   "metadata": {},
   "outputs": [
    {
     "data": {
      "text/plain": [
       "(214505, 110)"
      ]
     },
     "execution_count": 13,
     "metadata": {},
     "output_type": "execute_result"
    }
   ],
   "source": [
    "X.shape"
   ]
  },
  {
   "cell_type": "code",
   "execution_count": 14,
   "id": "1bd0fd0c",
   "metadata": {},
   "outputs": [
    {
     "name": "stdout",
     "output_type": "stream",
     "text": [
      "Optimization terminated successfully.\n",
      "         Current function value: 0.118538\n",
      "         Iterations 9\n",
      "                                            Logit Regression Results                                           \n",
      "===============================================================================================================\n",
      "Dep. Variable:     Serious_Psychological_Distress_Indicator_Past_Month   No. Observations:               214505\n",
      "Model:                                                           Logit   Df Residuals:                   214484\n",
      "Method:                                                            MLE   Df Model:                           20\n",
      "Date:                                                 Fri, 22 Oct 2021   Pseudo R-squ.:                  0.5797\n",
      "Time:                                                         21:11:24   Log-Likelihood:                -25427.\n",
      "converged:                                                        True   LL-Null:                       -60492.\n",
      "Covariance Type:                                             nonrobust   LLR p-value:                     0.000\n",
      "===========================================================================================================\n",
      "                                              coef    std err          z      P>|z|      [0.025      0.975]\n",
      "-----------------------------------------------------------------------------------------------------------\n",
      "Overall_Health_Fair_Poor                    0.9477      0.044     21.780      0.000       0.862       1.033\n",
      "Education_Category_Less_than_HS             0.6343      0.044     14.348      0.000       0.548       0.721\n",
      "Perceived_Unmet_Need                        0.5933      0.026     22.457      0.000       0.542       0.645\n",
      "Adult_Employment_Status_Unemployed          0.5616      0.041     13.633      0.000       0.481       0.642\n",
      "Education_Category_HS_Grad                  0.5268      0.037     14.052      0.000       0.453       0.600\n",
      "Overall_Health_Good                         0.4836      0.038     12.580      0.000       0.408       0.559\n",
      "Worst_Psychological_Distress_Level          0.3719      0.003    145.517      0.000       0.367       0.377\n",
      "Adult_Employment_Status_Other               0.3012      0.029     10.408      0.000       0.244       0.358\n",
      "Education_Category_Some_College_Assoc       0.2479      0.035      7.111      0.000       0.180       0.316\n",
      "Gender_Male                                 0.1904      0.024      7.850      0.000       0.143       0.238\n",
      "Num_Days_Skipped_Work_Past_30_Days          0.0656      0.006     10.366      0.000       0.053       0.078\n",
      "Year                                       -0.0038   3.12e-05   -122.433      0.000      -0.004      -0.004\n",
      "Total_Income_Family_Recode_75000orMore     -0.1595      0.029     -5.522      0.000      -0.216      -0.103\n",
      "Age_Category_Six_Levels_50-64              -0.2628      0.049     -5.363      0.000      -0.359      -0.167\n",
      "Age_Category_Six_Levels_35-49              -0.2280      0.032     -7.100      0.000      -0.291      -0.165\n",
      "Age_Category_Six_Levels_26-34              -0.2291      0.031     -7.328      0.000      -0.290      -0.168\n",
      "Age_Category_Six_Levels_65_And_Above       -0.3817      0.070     -5.435      0.000      -0.519      -0.244\n",
      "Overall_Health_Very_Good                    0.1414      0.038      3.699      0.000       0.067       0.216\n",
      "Race_Ethnicity_Black                        0.2352      0.036      6.579      0.000       0.165       0.305\n",
      "Treatment_Type_Past_Year_Inpatient_Only     0.4594      0.149      3.092      0.002       0.168       0.751\n",
      "PDEN10_Less_than_1_Mil                     -0.0552      0.023     -2.351      0.019      -0.101      -0.009\n",
      "===========================================================================================================\n"
     ]
    }
   ],
   "source": [
    "\n",
    "res = sm.Logit(y, X[cols]).fit()\n",
    "print(res.summary())"
   ]
  },
  {
   "cell_type": "code",
   "execution_count": 15,
   "id": "f5a29957",
   "metadata": {},
   "outputs": [
    {
     "ename": "NameError",
     "evalue": "name 'log_reg' is not defined",
     "output_type": "error",
     "traceback": [
      "\u001b[0;31m---------------------------------------------------------------------------\u001b[0m",
      "\u001b[0;31mNameError\u001b[0m                                 Traceback (most recent call last)",
      "\u001b[0;32m<ipython-input-15-edf8148c1455>\u001b[0m in \u001b[0;36m<module>\u001b[0;34m\u001b[0m\n\u001b[1;32m      2\u001b[0m                            accuracy_score)\n\u001b[1;32m      3\u001b[0m \u001b[0;34m\u001b[0m\u001b[0m\n\u001b[0;32m----> 4\u001b[0;31m \u001b[0myhat\u001b[0m \u001b[0;34m=\u001b[0m \u001b[0mlog_reg\u001b[0m\u001b[0;34m.\u001b[0m\u001b[0mpredict\u001b[0m\u001b[0;34m(\u001b[0m\u001b[0mX_test\u001b[0m\u001b[0;34m)\u001b[0m\u001b[0;34m\u001b[0m\u001b[0;34m\u001b[0m\u001b[0m\n\u001b[0m\u001b[1;32m      5\u001b[0m \u001b[0mprediction\u001b[0m \u001b[0;34m=\u001b[0m \u001b[0mlist\u001b[0m\u001b[0;34m(\u001b[0m\u001b[0mmap\u001b[0m\u001b[0;34m(\u001b[0m\u001b[0mround\u001b[0m\u001b[0;34m,\u001b[0m \u001b[0myhat\u001b[0m\u001b[0;34m)\u001b[0m\u001b[0;34m)\u001b[0m\u001b[0;34m\u001b[0m\u001b[0;34m\u001b[0m\u001b[0m\n\u001b[1;32m      6\u001b[0m \u001b[0;34m\u001b[0m\u001b[0m\n",
      "\u001b[0;31mNameError\u001b[0m: name 'log_reg' is not defined"
     ]
    }
   ],
   "source": [
    "from sklearn.metrics import (confusion_matrix,\n",
    "                           accuracy_score)\n",
    " \n",
    "yhat = log_reg.predict(X_test)\n",
    "prediction = list(map(round, yhat))\n",
    "\n",
    "# confusion matrix\n",
    "cm = metrics.confusion_matrix(y_test, prediction)\n",
    "print (\"Confusion Matrix : \\n\", cm)\n",
    " \n",
    "# accuracy score of the model\n",
    "print('Test accuracy = ', accuracy_score(y_test, prediction))"
   ]
  },
  {
   "cell_type": "code",
   "execution_count": 16,
   "id": "3da55480",
   "metadata": {},
   "outputs": [
    {
     "name": "stdout",
     "output_type": "stream",
     "text": [
      "                                               5%       95%  Odds Ratio\n",
      "Overall_Health_Fair_Poor                 2.368969  2.809570    2.579881\n",
      "Education_Category_Less_than_HS          1.729256  2.056480    1.885784\n",
      "Perceived_Unmet_Need                     1.718604  1.906126    1.809938\n",
      "Adult_Employment_Status_Unemployed       1.617416  1.900833    1.753407\n",
      "Education_Category_HS_Grad               1.573514  1.822588    1.693478\n",
      "Overall_Health_Good                      1.504255  1.748925    1.621983\n",
      "Worst_Psychological_Distress_Level       1.443268  1.457800    1.450516\n",
      "Adult_Employment_Status_Other            1.276914  1.430286    1.351426\n",
      "Education_Category_Some_College_Assoc    1.196734  1.371998    1.281373\n",
      "Gender_Male                              1.153561  1.268612    1.209720\n",
      "Num_Days_Skipped_Work_Past_30_Days       1.054639  1.081130    1.067802\n",
      "Year                                     0.996130  0.996252    0.996191\n",
      "Total_Income_Family_Recode_75000orMore   0.805625  0.902216    0.852554\n",
      "Age_Category_Six_Levels_50-64            0.698514  0.846415    0.768916\n",
      "Age_Category_Six_Levels_35-49            0.747538  0.847830    0.796106\n",
      "Age_Category_Six_Levels_26-34            0.747981  0.845502    0.795248\n",
      "Age_Category_Six_Levels_65_And_Above     0.594928  0.783446    0.682711\n",
      "Overall_Health_Very_Good                 1.068763  1.241556    1.151924\n",
      "Race_Ethnicity_Black                     1.179561  1.357001    1.265174\n",
      "Treatment_Type_Past_Year_Inpatient_Only  1.183130  2.118336    1.583119\n",
      "PDEN10_Less_than_1_Mil                   0.903759  0.990867    0.946311\n"
     ]
    }
   ],
   "source": [
    "params = res.params\n",
    "conf = res.conf_int()\n",
    "conf['Odds Ratio'] = params\n",
    "conf.columns = ['5%', '95%','Odds Ratio']\n",
    "print(np.exp(conf))"
   ]
  },
  {
   "cell_type": "code",
   "execution_count": null,
   "id": "00d2afb1",
   "metadata": {},
   "outputs": [],
   "source": []
  }
 ],
 "metadata": {
  "kernelspec": {
   "display_name": "Python 3",
   "language": "python",
   "name": "python3"
  },
  "language_info": {
   "codemirror_mode": {
    "name": "ipython",
    "version": 3
   },
   "file_extension": ".py",
   "mimetype": "text/x-python",
   "name": "python",
   "nbconvert_exporter": "python",
   "pygments_lexer": "ipython3",
   "version": "3.8.8"
  }
 },
 "nbformat": 4,
 "nbformat_minor": 5
}
