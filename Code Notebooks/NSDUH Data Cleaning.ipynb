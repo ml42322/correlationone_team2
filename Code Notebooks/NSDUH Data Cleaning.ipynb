{
 "cells": [
  {
   "cell_type": "markdown",
   "metadata": {},
   "source": [
    "# Data Preprocessing"
   ]
  },
  {
   "cell_type": "code",
   "execution_count": 1,
   "metadata": {},
   "outputs": [
    {
     "data": {
      "text/html": [
       "<style>.container {width:85% !important;}</style>"
      ],
      "text/plain": [
       "<IPython.core.display.HTML object>"
      ]
     },
     "metadata": {},
     "output_type": "display_data"
    }
   ],
   "source": [
    "# import packages\n",
    "import numpy as np\n",
    "import matplotlib.pyplot as plt\n",
    "import pandas as pd\n",
    "import csv\n",
    "\n",
    "# Adjust notebook settings to widen the notebook\n",
    "from IPython.core.display import display, HTML\n",
    "display(HTML(\"<style>.container {width:85% !important;}</style>\"))\n",
    "pd.set_option(\"display.max_columns\", None)\n",
    "pd.set_option(\"display.max_rows\", None)"
   ]
  },
  {
   "cell_type": "code",
   "execution_count": 2,
   "metadata": {},
   "outputs": [],
   "source": [
    "# ## downloaded 2015-2019 datasets from NSDUH\n",
    "# nsduh2019 = pd.read_csv(\"./Data/nsduh2019.csv\")\n",
    "# nsduh2018 = pd.read_csv(\"./Data/nsduh2018.csv\")\n",
    "# nsduh2017 = pd.read_csv(\"./Data/nsduh2017.csv\")\n",
    "# nsduh2016 = pd.read_csv(\"./Data/nsduh2016.csv\")\n",
    "# nsduh2015 = pd.read_csv(\"./Data/nsduh2015.csv\")\n",
    "\n",
    "# ## join datasets from 2015-2019 on common columns\n",
    "# nsduh = pd.concat([nsduh2015, nsduh2016], axis=0, join=\"inner\")\n",
    "# nsduh = pd.concat([nsduh, nsduh2017], axis=0, join=\"inner\")\n",
    "# nsduh = pd.concat([nsduh, nsduh2018], axis=0, join=\"inner\")\n",
    "# nsduh2019.columns = nsduh2019.columns.str.upper()\n",
    "# nsduh = pd.concat([nsduh, nsduh2019], axis=0, join=\"inner\")\n",
    "\n",
    "# ## save merged dataset\n",
    "# nsduh.to_csv(\"./Data/nsduh_original.csv\")\n",
    "\n",
    "# df_chunk = pd.read_csv('./Data/nsduh_original.csv',chunksize=1000000)\n",
    "# df_original = pd.concat(df_chunk)"
   ]
  },
  {
   "cell_type": "code",
   "execution_count": 3,
   "metadata": {},
   "outputs": [],
   "source": [
    "# # chunk15.head(2) # 2015 : File date = 02/15/2018\n",
    "# # chunk16.head(2) # 2016 : File date = 02/28/2018\n",
    "# # chunk17.head(2) # 2017 : File date = 10/09/2018\n",
    "# # chunk18.head(2) # 2018 : File date = 10/08/2019\n",
    "# # chunk19.head(2) # 2019 : File date = 10/09/2020\n",
    "\n",
    "# df_original['FILEDATE'] = df_original['FILEDATE'].replace(['02/15/2018','02/28/2018','10/09/2018','10/08/2019','10/09/2020'],[2015, 2016, 2017, 2018, 2019])"
   ]
  },
  {
   "cell_type": "code",
   "execution_count": 4,
   "metadata": {
    "scrolled": true
   },
   "outputs": [],
   "source": [
    "# df_reduced = df_original[['QUESTID2', 'FILEDATE', 'AMHINP2', 'AMHOUTP3', 'AMHRX2', 'AMHTXRC3', 'AMHSVTYP', 'AMHTXND2', 'AMHTXAND', 'MHLMNT3', 'MHLTHER3', 'MHLDOC3', 'MHLCLNC3', 'MHLDTMT3', 'MHLSCHL3', 'MHLOTH3', 'MHPDSLF2', 'MHPDOFM2', 'MHPDPHI2', 'MHPDMCR2', 'MHPDMCD2', 'MHPDREH2', 'MHPDEMP2', 'MHPDMIL2', 'MHPDPUB2', 'MHPDPRV2', 'MHPDFRE2', 'MHRCOST2', 'MHRNBRS2', 'MHRJOBS2', 'MHRNCOV2', 'MHRENUF2', 'MHRWHER2', 'MHRCFID2', 'MHRCMIT2', 'MHRNOND2', 'MHRHAND2', 'MHRNOHP2', 'MHRTIME2', 'MHRFOUT2', 'MHRTRAN2', 'MHRSOTH2', 'RCVMHOSPTX', 'RCVMHNSPTX', 'RCVSPTXNMH', 'RCVMHASPTX', 'DSTWORST', 'DSTNRV12', 'DSTHOP12', 'DSTRST12', 'DSTCHR12', 'DSTEFF12', 'DSTNGD12', 'IMPREMEM', 'IMPCONCN', 'IMPGOUT', 'IMPGOUTM', 'IMPPEOP', 'IMPPEOPM', 'IMPSOC', 'IMPSOCM', 'IMPHHLD', 'IMPHHLDM', 'IMPRESP', 'IMPRESPM', 'IMPWORK', 'IMPWEEKS', 'IMPDYFRQ', 'IMPYDAYS', 'SUICTHNK', 'SUICPLAN', 'SUICTRY', 'K6SCMON', 'SPDMON', 'K6SCYR', 'K6SCMAX', 'SPDYR', 'MHSUITHK','MHSUIPLN', 'MHSUITRY', 'SMMIYR_U', 'MMIYR_U', 'LMIYR_U', 'LMMIYRU', 'MI_CAT_U', 'SMISUDPY', 'AMISUDPY', 'LMMISUDPY', 'AMDELT', 'AMDEYR','ATXMDEYR', 'ARXMDEYR', 'AMDETXRX','IRSEX', 'IREDUHIGHST2','CATAGE', 'CATAG2', 'CATAG3', 'CATAG6', 'SEXAGE', 'NEWRACE2', 'SEXRACE', 'EDUHIGHCAT', 'HEALTH2', 'WRKSKIPMO', 'WRKSICKMO', 'WRKSTATWK2', 'WRKDPSTWK', 'WRKHADJOB', 'WRKDHRSWK2', 'WRK35WKUS', 'WRKRSNNOT', 'WRKRSNJOB', 'WRKEFFORT', 'WRKDPSTYR', 'WRKSELFEM', 'WRKNUMJOB2', 'WRKNJBPYR', 'WRKNJBWKS', 'WRKLASTYR2', 'WRKSICKMO', 'WRKSKIPMO','WRKDRGHLP','IRWRKSTAT18','IRMEDICR','IRMCDCHP','IRCHMPUS','IRPRVHLT','IROTHHLT','ANYHLTI2', 'IRINSUR4','IRFAMSOC','IRFAMSSI','IRFSTAMP','IRFAMPMT','IRFAMSVC','IRWELMOS','IRPINC3','IRFAMIN3','GOVTPROG','INCOME','POVERTY3','PDEN10','COUTYP4']]\n",
    "# df_reduced.to_csv('./Data/nsduh_reduced_data.csv')"
   ]
  },
  {
   "cell_type": "code",
   "execution_count": 6,
   "metadata": {},
   "outputs": [],
   "source": [
    "df_chunk = pd.read_csv('./Data/nsduh_reduced_data.csv',chunksize=1000000) # reduced dataset saved in google drive\n",
    "df = pd.concat(df_chunk)"
   ]
  },
  {
   "cell_type": "code",
   "execution_count": 7,
   "metadata": {},
   "outputs": [
    {
     "name": "stdout",
     "output_type": "stream",
     "text": [
      "['Unnamed: 0', 'QUESTID2', 'FILEDATE', 'AMHINP2', 'AMHOUTP3', 'AMHRX2', 'AMHTXRC3', 'AMHSVTYP', 'AMHTXND2', 'AMHTXAND', 'MHLMNT3', 'MHLTHER3', 'MHLDOC3', 'MHLCLNC3', 'MHLDTMT3', 'MHLSCHL3', 'MHLOTH3', 'MHPDSLF2', 'MHPDOFM2', 'MHPDPHI2', 'MHPDMCR2', 'MHPDMCD2', 'MHPDREH2', 'MHPDEMP2', 'MHPDMIL2', 'MHPDPUB2', 'MHPDPRV2', 'MHPDFRE2', 'MHRCOST2', 'MHRNBRS2', 'MHRJOBS2', 'MHRNCOV2', 'MHRENUF2', 'MHRWHER2', 'MHRCFID2', 'MHRCMIT2', 'MHRNOND2', 'MHRHAND2', 'MHRNOHP2', 'MHRTIME2', 'MHRFOUT2', 'MHRTRAN2', 'MHRSOTH2', 'RCVMHOSPTX', 'RCVMHNSPTX', 'RCVSPTXNMH', 'RCVMHASPTX', 'DSTWORST', 'DSTNRV12', 'DSTHOP12', 'DSTRST12', 'DSTCHR12', 'DSTEFF12', 'DSTNGD12', 'IMPREMEM', 'IMPCONCN', 'IMPGOUT', 'IMPGOUTM', 'IMPPEOP', 'IMPPEOPM', 'IMPSOC', 'IMPSOCM', 'IMPHHLD', 'IMPHHLDM', 'IMPRESP', 'IMPRESPM', 'IMPWORK', 'IMPWEEKS', 'IMPDYFRQ', 'IMPYDAYS', 'SUICTHNK', 'SUICPLAN', 'SUICTRY', 'K6SCMON', 'SPDMON', 'K6SCYR', 'K6SCMAX', 'SPDYR', 'MHSUITHK', 'MHSUIPLN', 'MHSUITRY', 'SMMIYR_U', 'MMIYR_U', 'LMIYR_U', 'LMMIYRU', 'MI_CAT_U', 'SMISUDPY', 'AMISUDPY', 'LMMISUDPY', 'AMDELT', 'AMDEYR', 'ATXMDEYR', 'ARXMDEYR', 'AMDETXRX', 'IRSEX', 'IREDUHIGHST2', 'CATAGE', 'CATAG2', 'CATAG3', 'CATAG6', 'SEXAGE', 'NEWRACE2', 'SEXRACE', 'EDUHIGHCAT', 'HEALTH2', 'WRKSKIPMO', 'WRKSICKMO', 'WRKSTATWK2', 'WRKDPSTWK', 'WRKHADJOB', 'WRKDHRSWK2', 'WRK35WKUS', 'WRKRSNNOT', 'WRKRSNJOB', 'WRKEFFORT', 'WRKDPSTYR', 'WRKSELFEM', 'WRKNUMJOB2', 'WRKNJBPYR', 'WRKNJBWKS', 'WRKLASTYR2', 'WRKSICKMO.1', 'WRKSKIPMO.1', 'WRKDRGHLP', 'IRWRKSTAT18', 'IRMEDICR', 'IRMCDCHP', 'IRCHMPUS', 'IRPRVHLT', 'IROTHHLT', 'ANYHLTI2', 'IRINSUR4', 'IRFAMSOC', 'IRFAMSSI', 'IRFSTAMP', 'IRFAMPMT', 'IRFAMSVC', 'IRWELMOS', 'IRPINC3', 'IRFAMIN3', 'GOVTPROG', 'INCOME', 'POVERTY3', 'PDEN10', 'COUTYP4']\n"
     ]
    }
   ],
   "source": [
    "# Get all column names in df\n",
    "print(list(df.columns))"
   ]
  },
  {
   "cell_type": "code",
   "execution_count": 8,
   "metadata": {},
   "outputs": [],
   "source": [
    "df_trimmed = df[['QUESTID2', 'FILEDATE', 'AMHINP2', 'AMHOUTP3', 'AMHRX2', 'AMHTXRC3', 'AMHSVTYP', 'AMHTXND2', 'AMHTXAND', 'MHLMNT3', 'MHLTHER3', 'MHLDOC3', 'MHLCLNC3', 'MHLDTMT3', 'MHLSCHL3', 'MHLOTH3', 'MHPDSLF2', 'MHPDOFM2', 'MHPDPHI2', 'MHPDMCR2', 'MHPDMCD2', 'MHPDREH2', 'MHPDEMP2', 'MHPDMIL2', 'MHPDPUB2', 'MHPDPRV2', 'MHPDFRE2', 'MHRCOST2', 'MHRNBRS2', 'MHRJOBS2', 'MHRNCOV2', 'MHRENUF2', 'MHRWHER2', 'MHRCFID2', 'MHRCMIT2', 'MHRNOND2', 'MHRHAND2', 'MHRNOHP2', 'MHRTIME2', 'MHRFOUT2', 'MHRTRAN2', 'MHRSOTH2', 'RCVMHOSPTX', 'RCVMHNSPTX', 'RCVSPTXNMH', 'RCVMHASPTX', 'DSTWORST', 'DSTNRV12', 'DSTHOP12', 'DSTRST12', 'DSTCHR12', 'DSTEFF12', 'DSTNGD12', 'IMPREMEM', 'IMPCONCN', 'IMPGOUT', 'IMPGOUTM', 'IMPPEOP', 'IMPPEOPM', 'IMPSOC', 'IMPSOCM', 'IMPHHLD', 'IMPHHLDM', 'IMPRESP', 'IMPRESPM', 'IMPWORK', 'IMPWEEKS', 'IMPDYFRQ', 'IMPYDAYS', 'SUICTHNK', 'SUICPLAN', 'SUICTRY', 'K6SCMON', 'SPDMON', 'K6SCYR', 'K6SCMAX', 'SPDYR', 'MHSUITHK','MHSUIPLN', 'MHSUITRY', 'SMMIYR_U', 'MMIYR_U', 'LMIYR_U', 'LMMIYRU', 'MI_CAT_U', 'SMISUDPY', 'AMISUDPY', 'LMMISUDPY', 'AMDELT', 'AMDEYR','ATXMDEYR', 'ARXMDEYR', 'AMDETXRX','IRSEX', 'IREDUHIGHST2','CATAGE', 'CATAG2', 'CATAG3', 'CATAG6','SEXAGE', 'NEWRACE2', 'SEXRACE', 'EDUHIGHCAT', 'HEALTH2', 'WRKSTATWK2', 'WRKDPSTWK', 'WRKHADJOB', 'WRKDHRSWK2', 'WRK35WKUS', 'WRKRSNNOT', 'WRKRSNJOB', 'WRKEFFORT', 'WRKDPSTYR', 'WRKSELFEM', 'WRKNUMJOB2', 'WRKNJBPYR', 'WRKNJBWKS', 'WRKLASTYR2', 'WRKSICKMO', 'WRKSKIPMO','WRKDRGHLP','IRWRKSTAT18','IRMEDICR','IRMCDCHP','IRCHMPUS','IRPRVHLT','IROTHHLT','ANYHLTI2', 'IRINSUR4','IRFAMSOC','IRFAMSSI','IRFSTAMP','IRFAMPMT','IRFAMSVC','IRWELMOS','IRPINC3','IRFAMIN3','GOVTPROG','INCOME','POVERTY3','PDEN10','COUTYP4']]"
   ]
  },
  {
   "cell_type": "code",
   "execution_count": 9,
   "metadata": {
    "scrolled": true
   },
   "outputs": [],
   "source": [
    "# df_trimmed.shape # (282768, 148)"
   ]
  },
  {
   "cell_type": "code",
   "execution_count": 10,
   "metadata": {},
   "outputs": [],
   "source": [
    "df_trimmed = df_trimmed[['QUESTID2', 'FILEDATE', 'AMHINP2', 'AMHOUTP3', 'AMHRX2', 'AMHTXRC3', 'AMHSVTYP', 'AMHTXND2','MHLMNT3', 'MHLTHER3', 'MHLDOC3', 'MHLCLNC3', 'MHLDTMT3', 'MHLSCHL3', 'MHLOTH3', 'MHPDSLF2', 'MHPDOFM2', 'MHPDPHI2', 'MHPDMCR2', 'MHPDMCD2', 'MHPDREH2', 'MHPDEMP2', 'MHPDMIL2', 'MHPDPUB2', 'MHPDPRV2', 'MHPDFRE2', 'MHRCOST2', 'MHRNBRS2', 'MHRJOBS2', 'MHRNCOV2', 'MHRENUF2', 'MHRWHER2', 'MHRCFID2', 'MHRCMIT2', 'MHRNOND2', 'MHRHAND2', 'MHRNOHP2', 'MHRTIME2', 'MHRFOUT2', 'MHRTRAN2', 'MHRSOTH2', 'IMPWEEKS', 'IMPYDAYS', 'SUICTHNK','SUICPLAN', 'SUICTRY', 'K6SCMON', 'SPDMON', 'K6SCYR', 'K6SCMAX', 'SPDYR', 'MHSUITHK', 'MHSUIPLN', 'MHSUITRY', 'SMMIYR_U', 'MMIYR_U', 'LMIYR_U', 'LMMIYRU', 'MI_CAT_U', 'SMISUDPY', 'AMISUDPY', 'LMMISUDPY', 'AMDELT', 'AMDEYR', 'ATXMDEYR', 'ARXMDEYR', 'AMDETXRX', 'IRSEX', 'IREDUHIGHST2', 'CATAGE', 'CATAG2', 'CATAG3', 'CATAG6', 'SEXAGE', 'NEWRACE2', 'SEXRACE', 'EDUHIGHCAT', 'HEALTH2', 'WRKSTATWK2','WRKSKIPMO', 'WRKDRGHLP', 'IRWRKSTAT18', 'IRMEDICR', 'IRMCDCHP', 'IRCHMPUS', 'IRPRVHLT', 'IROTHHLT', 'ANYHLTI2', 'IRINSUR4', 'IRFAMSOC', 'IRFAMSSI', 'IRFSTAMP', 'IRFAMPMT', 'IRFAMSVC', 'IRWELMOS', 'IRPINC3', 'IRFAMIN3', 'GOVTPROG', 'INCOME', 'POVERTY3', 'PDEN10', 'COUTYP4']]"
   ]
  },
  {
   "cell_type": "code",
   "execution_count": 11,
   "metadata": {},
   "outputs": [],
   "source": [
    "# Renaming columns\n",
    "column_mappings = dict()\n",
    "with open('Data/nsduh_data_dictionary.csv') as csvfile:\n",
    "    csvreader = csv.reader(csvfile)\n",
    "    for row in csvreader:\n",
    "        column_mappings[row[0]] = row[1]\n",
    "df_trimmed = df_trimmed.rename(columns=column_mappings)"
   ]
  },
  {
   "cell_type": "code",
   "execution_count": 12,
   "metadata": {},
   "outputs": [
    {
     "name": "stdout",
     "output_type": "stream",
     "text": [
      "['Id', 'Year', 'Inpatient_Past_Year', 'Outpatient_Past_Year', 'Prescription_Treatment_Past_Year', 'Any_Treatment_Past_Year', 'Treatment_Type_Past_Year', 'Perceived_Unmet_Need', 'Received_Treatment_At_Clinic_Or_Center', 'Received_Treatment_At_Private_Therapist', 'Received_Treatment_At_NonClinic_Doctor', 'Received_Treatment_At_Medical_Clinic', 'Received_Treatment_At_Day_Hospital', 'Received_Treatment_At_School', 'Received_Treatment_Other', 'Self_Paid', 'Non_Household_Member_Paid', 'Private_Health_Insurance_Paid', 'Medicare_Paid', 'Medicaid_Paid', 'Rehab_Paid', 'Employer_Paid', 'Military_Paid', 'Other_Public_Source_Paid', 'Other_Private_Source_Paid', 'Nobody_Paid', 'No_Treatment_Could_Not_Afford', 'No_Treatment_Feared_Neighbors_Opinion', 'No_Treatment_Feared_Effect_On_Job', 'No_Treatment_Insurance_Not_Covered', 'No_Treatment_Insurance_Not_Covered_Enough', 'No_Treatment_Where_To_Go', 'No_Treatment_Confidentiality_Concerns', 'No_Treatment_Fear_Of_Being_Committed', 'No_Treatment_Didnt_Think_Needed', 'No_Treatment_Handle_Problem_Without', 'No_Treatment_Didnt_Think_Would_Help', 'No_Treatment_Didnt_Have_Time', 'No_Treatment_Didnt_Want_Others_To_Know', 'No_Treatment_No_Transport_Inconvenient', 'No_Treatment_Other', 'Num_Weeks_Mental_Health_Difficulties', 'Num_Days_Past_Year_Unable_To_Work', 'Serious_Suicidal_Thoughts_Past_12_Months', 'Suicide_Plan_Past_12_Months', 'Suicide_Attempt_Past_12_Months', 'Psychological_Distress_Level_Past_Month', 'Serious_Psychological_Distress_Indicator_Past_Month', 'Psychological_Distress_Level_Worst_Month', 'Worst_Psychological_Distress_Level', 'Serious_Psychological_Distress_Indicator_Past_Year', 'Serious_Suicidal_Thoughts_Past_Year', 'Suicide_Plan_Past_Year', 'Suicide_Attempt_Past_Year', 'Serious_Or_Moderate_Mental_Illness_Indicator_Past_Year', 'Moderate_Mental_Illness_Indicator_Past_Year', 'Mild_Mental_Illness_Indicator_Past_Year', 'Low_Or_Moderate_Mental_Illness_Indicator_Past_Year', 'Categorical_Mental_Illness_Indicator', 'Serious_Mental_Illness_And_Substance_Abuse', 'Any_Mental_Illness_And_Substance_Abuse', 'Low_Or_Moderate_Mental_Illness_And_Substance_Abuse', 'Adult_Lifetime_Major_Depressive_Episode', 'Adult_Past_Year_Major_Depressive_Episode', 'Adult_Talked_To_Professional_About_Depressive_Feelings_Past_Year', 'Adult_Used_RX_Meds_For_Depressive_Feelings_Past_Year', 'Adult_Received_Counseling_Or_Meds_For_Depressive_Feelings_Past_Year', 'Gender', 'Education', 'Age_Category', 'Age_Category_Two_Levels', 'Age_Category_Three_Levels', 'Age_Category_Six_Levels', 'Gender_Age_Category', 'Race_Ethnicity', 'Race_Sex', 'Education_Category', 'Overall_Health', 'Work_Situation_Past_Week', 'Num_Days_Skipped_Work_Past_30_Days', 'EAP_Offered', 'Adult_Employment_Status', 'Has_Medicare', 'Has_Medicaid_Or_CHIP', 'Has_Military_Benefit', 'Has_Private_Health_Insurance', 'Has_Other_Health_Insurance', 'Covered_By_Any_Health_Insurance', 'Covered_By_Any_Health_Insurance_Imputation_Revised', 'Family_Receives_Social_Security', 'Family_Receives_SSI', 'Family_Receives_Food_Stamps', 'Family_Receives_Public_Assistance', 'Family_Receives_Welfare_JobPlacement_Childcare', 'Months_On_Welfare', 'Total_Income_Respondent', 'Total_Income_Family', 'Participated_In_One_Or_More_Government_Assistance_Programs', 'Total_Income_Family_Recode', 'Poverty_Level', 'PDEN10', 'County_Metro_NonMetro_Status']\n"
     ]
    }
   ],
   "source": [
    "print(list(df_trimmed.columns))"
   ]
  },
  {
   "cell_type": "code",
   "execution_count": 13,
   "metadata": {},
   "outputs": [],
   "source": [
    "df_cleaned = df_trimmed.fillna(-1)"
   ]
  },
  {
   "cell_type": "code",
   "execution_count": 14,
   "metadata": {},
   "outputs": [],
   "source": [
    "df_cleaned = df_cleaned.astype(int)"
   ]
  },
  {
   "cell_type": "code",
   "execution_count": 15,
   "metadata": {},
   "outputs": [],
   "source": [
    "df_age_filtered = df_cleaned.loc[df_cleaned['Age_Category'] > 1]"
   ]
  },
  {
   "cell_type": "code",
   "execution_count": 16,
   "metadata": {},
   "outputs": [
    {
     "name": "stderr",
     "output_type": "stream",
     "text": [
      "/Users/chiufengyap/opt/anaconda3/lib/python3.8/site-packages/pandas/core/frame.py:3191: SettingWithCopyWarning: \n",
      "A value is trying to be set on a copy of a slice from a DataFrame.\n",
      "Try using .loc[row_indexer,col_indexer] = value instead\n",
      "\n",
      "See the caveats in the documentation: https://pandas.pydata.org/pandas-docs/stable/user_guide/indexing.html#returning-a-view-versus-a-copy\n",
      "  self[k1] = value[k2]\n"
     ]
    }
   ],
   "source": [
    "df_age_filtered[['Inpatient_Past_Year', 'Outpatient_Past_Year', 'Prescription_Treatment_Past_Year', 'Any_Treatment_Past_Year']] = df_age_filtered[['Inpatient_Past_Year', 'Outpatient_Past_Year', 'Prescription_Treatment_Past_Year', 'Any_Treatment_Past_Year']].replace(2,0)"
   ]
  },
  {
   "cell_type": "code",
   "execution_count": 17,
   "metadata": {},
   "outputs": [
    {
     "name": "stderr",
     "output_type": "stream",
     "text": [
      "<ipython-input-17-d7f38b97ca2c>:1: SettingWithCopyWarning: \n",
      "A value is trying to be set on a copy of a slice from a DataFrame.\n",
      "Try using .loc[row_indexer,col_indexer] = value instead\n",
      "\n",
      "See the caveats in the documentation: https://pandas.pydata.org/pandas-docs/stable/user_guide/indexing.html#returning-a-view-versus-a-copy\n",
      "  df_age_filtered['Perceived_Unmet_Need'] = df_age_filtered['Perceived_Unmet_Need'].replace(2,0)\n"
     ]
    }
   ],
   "source": [
    "df_age_filtered['Perceived_Unmet_Need'] = df_age_filtered['Perceived_Unmet_Need'].replace(2,0)"
   ]
  },
  {
   "cell_type": "code",
   "execution_count": 18,
   "metadata": {},
   "outputs": [
    {
     "name": "stderr",
     "output_type": "stream",
     "text": [
      "<ipython-input-18-6a8b86ed125f>:1: SettingWithCopyWarning: \n",
      "A value is trying to be set on a copy of a slice from a DataFrame.\n",
      "Try using .loc[row_indexer,col_indexer] = value instead\n",
      "\n",
      "See the caveats in the documentation: https://pandas.pydata.org/pandas-docs/stable/user_guide/indexing.html#returning-a-view-versus-a-copy\n",
      "  df_age_filtered['Treatment_Type_Past_Year'] = df_age_filtered['Treatment_Type_Past_Year'].replace(8,0)\n"
     ]
    }
   ],
   "source": [
    "df_age_filtered['Treatment_Type_Past_Year'] = df_age_filtered['Treatment_Type_Past_Year'].replace(8,0)"
   ]
  },
  {
   "cell_type": "code",
   "execution_count": 19,
   "metadata": {},
   "outputs": [
    {
     "name": "stderr",
     "output_type": "stream",
     "text": [
      "<ipython-input-19-8d84b1e51e33>:1: SettingWithCopyWarning: \n",
      "A value is trying to be set on a copy of a slice from a DataFrame.\n",
      "Try using .loc[row_indexer,col_indexer] = value instead\n",
      "\n",
      "See the caveats in the documentation: https://pandas.pydata.org/pandas-docs/stable/user_guide/indexing.html#returning-a-view-versus-a-copy\n",
      "  df_age_filtered['Num_Weeks_Mental_Health_Difficulties'] = df_age_filtered['Num_Weeks_Mental_Health_Difficulties'].replace(99,0)\n"
     ]
    }
   ],
   "source": [
    "df_age_filtered['Num_Weeks_Mental_Health_Difficulties'] = df_age_filtered['Num_Weeks_Mental_Health_Difficulties'].replace(99,0)"
   ]
  },
  {
   "cell_type": "code",
   "execution_count": 20,
   "metadata": {},
   "outputs": [
    {
     "name": "stderr",
     "output_type": "stream",
     "text": [
      "<ipython-input-20-08bf032e4cdc>:1: SettingWithCopyWarning: \n",
      "A value is trying to be set on a copy of a slice from a DataFrame.\n",
      "Try using .loc[row_indexer,col_indexer] = value instead\n",
      "\n",
      "See the caveats in the documentation: https://pandas.pydata.org/pandas-docs/stable/user_guide/indexing.html#returning-a-view-versus-a-copy\n",
      "  df_age_filtered['Num_Weeks_Mental_Health_Difficulties'] = df_age_filtered['Num_Weeks_Mental_Health_Difficulties'].replace([85,94,97,98],-1)\n"
     ]
    }
   ],
   "source": [
    "df_age_filtered['Num_Weeks_Mental_Health_Difficulties'] = df_age_filtered['Num_Weeks_Mental_Health_Difficulties'].replace([85,94,97,98],-1)"
   ]
  },
  {
   "cell_type": "code",
   "execution_count": 21,
   "metadata": {},
   "outputs": [
    {
     "name": "stderr",
     "output_type": "stream",
     "text": [
      "<ipython-input-21-dabbc50deb83>:1: SettingWithCopyWarning: \n",
      "A value is trying to be set on a copy of a slice from a DataFrame.\n",
      "Try using .loc[row_indexer,col_indexer] = value instead\n",
      "\n",
      "See the caveats in the documentation: https://pandas.pydata.org/pandas-docs/stable/user_guide/indexing.html#returning-a-view-versus-a-copy\n",
      "  df_age_filtered['Num_Days_Past_Year_Unable_To_Work'] = df_age_filtered['Num_Days_Past_Year_Unable_To_Work'].replace(999,0)\n"
     ]
    }
   ],
   "source": [
    "df_age_filtered['Num_Days_Past_Year_Unable_To_Work'] = df_age_filtered['Num_Days_Past_Year_Unable_To_Work'].replace(999,0)"
   ]
  },
  {
   "cell_type": "code",
   "execution_count": 22,
   "metadata": {},
   "outputs": [
    {
     "name": "stderr",
     "output_type": "stream",
     "text": [
      "/Users/chiufengyap/opt/anaconda3/lib/python3.8/site-packages/pandas/core/generic.py:9286: SettingWithCopyWarning: \n",
      "A value is trying to be set on a copy of a slice from a DataFrame\n",
      "\n",
      "See the caveats in the documentation: https://pandas.pydata.org/pandas-docs/stable/user_guide/indexing.html#returning-a-view-versus-a-copy\n",
      "  return self._where(\n"
     ]
    }
   ],
   "source": [
    "df_age_filtered['Num_Days_Past_Year_Unable_To_Work'].where(df_age_filtered['Num_Days_Past_Year_Unable_To_Work'] <= 365, -1, inplace=True)"
   ]
  },
  {
   "cell_type": "code",
   "execution_count": 23,
   "metadata": {},
   "outputs": [],
   "source": [
    "df_final = df_age_filtered.copy()"
   ]
  },
  {
   "cell_type": "code",
   "execution_count": 24,
   "metadata": {},
   "outputs": [],
   "source": [
    "df_final[['Serious_Suicidal_Thoughts_Past_12_Months','Suicide_Plan_Past_12_Months','Suicide_Attempt_Past_12_Months']] = df_final[['Serious_Suicidal_Thoughts_Past_12_Months','Suicide_Plan_Past_12_Months','Suicide_Attempt_Past_12_Months']].replace(2,0)\n",
    "df_final[['Serious_Suicidal_Thoughts_Past_12_Months','Suicide_Plan_Past_12_Months','Suicide_Attempt_Past_12_Months']] = df_final[['Serious_Suicidal_Thoughts_Past_12_Months','Suicide_Plan_Past_12_Months','Suicide_Attempt_Past_12_Months']].replace(99,0)\n",
    "df_final[['Serious_Suicidal_Thoughts_Past_12_Months','Suicide_Plan_Past_12_Months','Suicide_Attempt_Past_12_Months']] = df_final[['Serious_Suicidal_Thoughts_Past_12_Months','Suicide_Plan_Past_12_Months','Suicide_Attempt_Past_12_Months']].replace([85,94,97,98],-1)"
   ]
  },
  {
   "cell_type": "code",
   "execution_count": 25,
   "metadata": {},
   "outputs": [],
   "source": [
    "# Drop unneeded columns\n",
    "df_final.drop(['Serious_Suicidal_Thoughts_Past_12_Months', 'Suicide_Plan_Past_12_Months','Suicide_Attempt_Past_12_Months','Psychological_Distress_Level_Past_Month','Adult_Talked_To_Professional_About_Depressive_Feelings_Past_Year','Adult_Used_RX_Meds_For_Depressive_Feelings_Past_Year', 'Education'], axis=1, inplace=True)"
   ]
  },
  {
   "cell_type": "code",
   "execution_count": 26,
   "metadata": {},
   "outputs": [],
   "source": [
    "df_final['Serious_Mental_Illness_And_Substance_Abuse'].replace(2,0,inplace=True)"
   ]
  },
  {
   "cell_type": "code",
   "execution_count": 27,
   "metadata": {},
   "outputs": [],
   "source": [
    "df_final['Any_Mental_Illness_And_Substance_Abuse'].replace(2,0,inplace=True)"
   ]
  },
  {
   "cell_type": "code",
   "execution_count": 28,
   "metadata": {},
   "outputs": [],
   "source": [
    "df_final['Adult_Past_Year_Major_Depressive_Episode'].replace(2,0,inplace=True)\n",
    "df_final['Adult_Lifetime_Major_Depressive_Episode'].replace(2,0,inplace=True)"
   ]
  },
  {
   "cell_type": "code",
   "execution_count": 29,
   "metadata": {},
   "outputs": [
    {
     "name": "stderr",
     "output_type": "stream",
     "text": [
      "/Users/chiufengyap/opt/anaconda3/lib/python3.8/site-packages/pandas/core/frame.py:4524: SettingWithCopyWarning: \n",
      "A value is trying to be set on a copy of a slice from a DataFrame\n",
      "\n",
      "See the caveats in the documentation: https://pandas.pydata.org/pandas-docs/stable/user_guide/indexing.html#returning-a-view-versus-a-copy\n",
      "  return super().replace(\n"
     ]
    }
   ],
   "source": [
    "df_final.loc[:,'Has_Medicare':'Family_Receives_Welfare_JobPlacement_Childcare'].replace(2,0,inplace=True)"
   ]
  },
  {
   "cell_type": "code",
   "execution_count": 30,
   "metadata": {},
   "outputs": [],
   "source": [
    "df_final['EAP_Offered'].replace(2,0,inplace=True)"
   ]
  },
  {
   "cell_type": "code",
   "execution_count": 31,
   "metadata": {},
   "outputs": [],
   "source": [
    "df_final['Participated_In_One_Or_More_Government_Assistance_Programs'].replace(2,0,inplace=True)"
   ]
  },
  {
   "cell_type": "code",
   "execution_count": 32,
   "metadata": {},
   "outputs": [
    {
     "data": {
      "text/plain": [
       "array([ 1,  2,  3,  4, -1])"
      ]
     },
     "execution_count": 32,
     "metadata": {},
     "output_type": "execute_result"
    }
   ],
   "source": [
    "df_final['Overall_Health'].replace(94,-1, inplace=True)\n",
    "df_final['Overall_Health'].replace(97,-1, inplace=True)\n",
    "df_final.Overall_Health.unique()"
   ]
  },
  {
   "cell_type": "code",
   "execution_count": 33,
   "metadata": {
    "scrolled": true
   },
   "outputs": [
    {
     "data": {
      "text/plain": [
       "array([ 1,  7,  6,  9, -1,  2,  4,  8,  5,  3])"
      ]
     },
     "execution_count": 33,
     "metadata": {},
     "output_type": "execute_result"
    }
   ],
   "source": [
    "df_final['Work_Situation_Past_Week'].replace(99,0, inplace=True)\n",
    "df_final['Work_Situation_Past_Week'].replace(98,-1, inplace=True)\n",
    "df_final.Work_Situation_Past_Week.unique()"
   ]
  },
  {
   "cell_type": "code",
   "execution_count": 34,
   "metadata": {},
   "outputs": [
    {
     "data": {
      "text/plain": [
       "array([ 0,  2,  1,  5,  4, -1, 13,  3,  6,  7, 10, 18, 30, 22, 15, 17,  8,\n",
       "       16,  9, 23, 20, 14, 21, 12, 28, 11, 25, 24, 19, 27, 29, 26])"
      ]
     },
     "execution_count": 34,
     "metadata": {},
     "output_type": "execute_result"
    }
   ],
   "source": [
    "df_final['Num_Days_Skipped_Work_Past_30_Days'].replace(99,0, inplace=True)\n",
    "df_final['Num_Days_Skipped_Work_Past_30_Days'].replace(85,-1, inplace=True)\n",
    "df_final['Num_Days_Skipped_Work_Past_30_Days'].replace(94,-1, inplace=True)\n",
    "df_final['Num_Days_Skipped_Work_Past_30_Days'].replace(97,-1, inplace=True)\n",
    "df_final['Num_Days_Skipped_Work_Past_30_Days'].replace(98,-1, inplace=True)\n",
    "df_final.Num_Days_Skipped_Work_Past_30_Days.unique()"
   ]
  },
  {
   "cell_type": "code",
   "execution_count": 35,
   "metadata": {},
   "outputs": [
    {
     "data": {
      "text/plain": [
       "array([ 0, -1,  1])"
      ]
     },
     "execution_count": 35,
     "metadata": {},
     "output_type": "execute_result"
    }
   ],
   "source": [
    "df_final['EAP_Offered'].replace(99,-1, inplace=True)\n",
    "df_final['EAP_Offered'].replace(85,-1, inplace=True)\n",
    "df_final['EAP_Offered'].replace(94,-1, inplace=True)\n",
    "df_final['EAP_Offered'].replace(97,-1, inplace=True)\n",
    "df_final['EAP_Offered'].replace(98,-1, inplace=True)\n",
    "df_final.EAP_Offered.unique()"
   ]
  },
  {
   "cell_type": "code",
   "execution_count": 36,
   "metadata": {},
   "outputs": [
    {
     "data": {
      "text/plain": [
       "array([1, 4, 2, 3])"
      ]
     },
     "execution_count": 36,
     "metadata": {},
     "output_type": "execute_result"
    }
   ],
   "source": [
    "df_final['Adult_Employment_Status'].replace(99, 0, inplace=True)\n",
    "df_final.Adult_Employment_Status.unique()"
   ]
  },
  {
   "cell_type": "code",
   "execution_count": 37,
   "metadata": {},
   "outputs": [
    {
     "data": {
      "text/plain": [
       "array([-1,  0,  1])"
      ]
     },
     "execution_count": 37,
     "metadata": {},
     "output_type": "execute_result"
    }
   ],
   "source": [
    "df_final['Has_Other_Health_Insurance'].replace(99, -1, inplace=True)\n",
    "df_final.Has_Other_Health_Insurance.unique()"
   ]
  },
  {
   "cell_type": "code",
   "execution_count": 38,
   "metadata": {},
   "outputs": [
    {
     "data": {
      "text/plain": [
       "array([ 1,  0, -1])"
      ]
     },
     "execution_count": 38,
     "metadata": {},
     "output_type": "execute_result"
    }
   ],
   "source": [
    "df_final['Covered_By_Any_Health_Insurance'].replace(94, -1, inplace=True)\n",
    "df_final['Covered_By_Any_Health_Insurance'].replace(97, -1, inplace=True)\n",
    "df_final['Covered_By_Any_Health_Insurance'].replace(98, -1, inplace=True)\n",
    "df_final.Covered_By_Any_Health_Insurance.unique()"
   ]
  },
  {
   "cell_type": "code",
   "execution_count": 39,
   "metadata": {},
   "outputs": [
    {
     "data": {
      "text/plain": [
       "array([ 1,  0, 12,  6,  2,  3,  7, 10, 11,  9,  4,  5,  8])"
      ]
     },
     "execution_count": 39,
     "metadata": {},
     "output_type": "execute_result"
    }
   ],
   "source": [
    "df_final['Months_On_Welfare'].replace(99, 0, inplace=True)\n",
    "df_final.Months_On_Welfare.unique()"
   ]
  },
  {
   "cell_type": "code",
   "execution_count": 40,
   "metadata": {},
   "outputs": [],
   "source": [
    "df_final.to_csv('./Data/nsduh_data_cleaned.csv')"
   ]
  }
 ],
 "metadata": {
  "interpreter": {
   "hash": "c4c57c525456a3a7539630c5a8897ea21eaf347083a4d1f4168d144a40c5d5a4"
  },
  "kernelspec": {
   "display_name": "Python 3",
   "language": "python",
   "name": "python3"
  },
  "language_info": {
   "codemirror_mode": {
    "name": "ipython",
    "version": 3
   },
   "file_extension": ".py",
   "mimetype": "text/x-python",
   "name": "python",
   "nbconvert_exporter": "python",
   "pygments_lexer": "ipython3",
   "version": "3.8.8"
  }
 },
 "nbformat": 4,
 "nbformat_minor": 2
}
